{
 "cells": [
  {
   "cell_type": "code",
   "execution_count": 22,
   "id": "01190304",
   "metadata": {},
   "outputs": [
    {
     "data": {
      "text/plain": [
       "Index(['Etapa', 'Inicio', 'Fin'], dtype='object')"
      ]
     },
     "execution_count": 22,
     "metadata": {},
     "output_type": "execute_result"
    }
   ],
   "source": [
    "from pathlib import Path\n",
    "import pandas as pd\n",
    "from dateutil.relativedelta import relativedelta\n",
    "import plotly.express as px\n",
    "\n",
    "ruta = Path(r\"Z:\\02_Maestría UNI\\I_TALLER DE PROYECTOS II\\EXPOSICION\\expo2_akira\\data\\data.xlsx\")\n",
    "df = pd.read_excel(\n",
    "    ruta, sheet_name=\"horizonte\",\n",
    "    parse_dates=[\"Inicio\", \"Fin\"],\n",
    "    engine=\"openpyxl\"\n",
    ").rename(columns=str.strip)\n",
    "\n",
    "df.columns"
   ]
  },
  {
   "cell_type": "code",
   "execution_count": 24,
   "id": "54bf8a93",
   "metadata": {},
   "outputs": [
    {
     "data": {
      "application/vnd.plotly.v1+json": {
       "config": {
        "plotlyServerURL": "https://plot.ly"
       },
       "data": [
        {
         "base": [
          "2025-03-03T00:00:00.000000000"
         ],
         "customdata": [
          [
           "0a 2m 21d"
          ]
         ],
         "hovertemplate": "Etapa del Proyecto=%{y}<br>Inicio=%{base|%d %B %Y}<br>Fin=%{x|%d %B %Y}<br>Duración=%{customdata[0]}<extra></extra>",
         "legendgroup": "Actos preparatorios",
         "marker": {
          "color": "#636efa",
          "pattern": {
           "shape": ""
          }
         },
         "name": "Actos preparatorios",
         "orientation": "h",
         "showlegend": true,
         "textposition": "auto",
         "type": "bar",
         "x": [
          7084800000
         ],
         "xaxis": "x",
         "y": [
          "Actos preparatorios"
         ],
         "yaxis": "y"
        },
        {
         "base": [
          "2025-06-08T00:00:00.000000000"
         ],
         "customdata": [
          [
           "0a 1m 30d"
          ]
         ],
         "hovertemplate": "Etapa del Proyecto=%{y}<br>Inicio=%{base|%d %B %Y}<br>Fin=%{x|%d %B %Y}<br>Duración=%{customdata[0]}<extra></extra>",
         "legendgroup": "Procedimiento de selección para ED",
         "marker": {
          "color": "#EF553B",
          "pattern": {
           "shape": ""
          }
         },
         "name": "Procedimiento de selección para ED",
         "orientation": "h",
         "showlegend": true,
         "textposition": "auto",
         "type": "bar",
         "x": [
          5184000000
         ],
         "xaxis": "x",
         "y": [
          "Procedimiento de selección para ED"
         ],
         "yaxis": "y"
        },
        {
         "base": [
          "2025-08-08T00:00:00.000000000"
         ],
         "customdata": [
          [
           "0a 0m 30d"
          ]
         ],
         "hovertemplate": "Etapa del Proyecto=%{y}<br>Inicio=%{base|%d %B %Y}<br>Fin=%{x|%d %B %Y}<br>Duración=%{customdata[0]}<extra></extra>",
         "legendgroup": "Elaboración de los ET (Contingencia)",
         "marker": {
          "color": "#00cc96",
          "pattern": {
           "shape": ""
          }
         },
         "name": "Elaboración de los ET (Contingencia)",
         "orientation": "h",
         "showlegend": true,
         "textposition": "auto",
         "type": "bar",
         "x": [
          2592000000
         ],
         "xaxis": "x",
         "y": [
          "Elaboración de los ET (Contingencia)"
         ],
         "yaxis": "y"
        },
        {
         "base": [
          "2025-08-08T00:00:00.000000000"
         ],
         "customdata": [
          [
           "0a 3m 28d"
          ]
         ],
         "hovertemplate": "Etapa del Proyecto=%{y}<br>Inicio=%{base|%d %B %Y}<br>Fin=%{x|%d %B %Y}<br>Duración=%{customdata[0]}<extra></extra>",
         "legendgroup": "Elaboración de los ET (Obra)",
         "marker": {
          "color": "#ab63fa",
          "pattern": {
           "shape": ""
          }
         },
         "name": "Elaboración de los ET (Obra)",
         "orientation": "h",
         "showlegend": true,
         "textposition": "auto",
         "type": "bar",
         "x": [
          10368000000
         ],
         "xaxis": "x",
         "y": [
          "Elaboración de los ET (Obra)"
         ],
         "yaxis": "y"
        },
        {
         "base": [
          "2025-11-06T00:00:00.000000000"
         ],
         "customdata": [
          [
           "0a 1m 0d"
          ]
         ],
         "hovertemplate": "Etapa del Proyecto=%{y}<br>Inicio=%{base|%d %B %Y}<br>Fin=%{x|%d %B %Y}<br>Duración=%{customdata[0]}<extra></extra>",
         "legendgroup": "Elaboración de las Esp. Téc. (Mob&Equi)",
         "marker": {
          "color": "#FFA15A",
          "pattern": {
           "shape": ""
          }
         },
         "name": "Elaboración de las Esp. Téc. (Mob&Equi)",
         "orientation": "h",
         "showlegend": true,
         "textposition": "auto",
         "type": "bar",
         "x": [
          2592000000
         ],
         "xaxis": "x",
         "y": [
          "Elaboración de las Esp. Téc. (Mob&Equi)"
         ],
         "yaxis": "y"
        },
        {
         "base": [
          "2025-11-06T00:00:00.000000000"
         ],
         "customdata": [
          [
           "0a 1m 0d"
          ]
         ],
         "hovertemplate": "Etapa del Proyecto=%{y}<br>Inicio=%{base|%d %B %Y}<br>Fin=%{x|%d %B %Y}<br>Duración=%{customdata[0]}<extra></extra>",
         "legendgroup": "Elaboración del Términos de Ref.",
         "marker": {
          "color": "#19d3f3",
          "pattern": {
           "shape": ""
          }
         },
         "name": "Elaboración del Términos de Ref.",
         "orientation": "h",
         "showlegend": true,
         "textposition": "auto",
         "type": "bar",
         "x": [
          2592000000
         ],
         "xaxis": "x",
         "y": [
          "Elaboración del Términos de Ref."
         ],
         "yaxis": "y"
        },
        {
         "base": [
          "2025-12-21T00:00:00.000000000"
         ],
         "customdata": [
          [
           "0a 1m 14d"
          ]
         ],
         "hovertemplate": "Etapa del Proyecto=%{y}<br>Inicio=%{base|%d %B %Y}<br>Fin=%{x|%d %B %Y}<br>Duración=%{customdata[0]}<extra></extra>",
         "legendgroup": "Aprobación de los Est. Def.",
         "marker": {
          "color": "#FF6692",
          "pattern": {
           "shape": ""
          }
         },
         "name": "Aprobación de los Est. Def.",
         "orientation": "h",
         "showlegend": true,
         "textposition": "auto",
         "type": "bar",
         "x": [
          3888000000
         ],
         "xaxis": "x",
         "y": [
          "Aprobación de los Est. Def."
         ],
         "yaxis": "y"
        },
        {
         "base": [
          "2026-03-16T00:00:00.000000000"
         ],
         "customdata": [
          [
           "1a 7m 29d"
          ]
         ],
         "hovertemplate": "Etapa del Proyecto=%{y}<br>Inicio=%{base|%d %B %Y}<br>Fin=%{x|%d %B %Y}<br>Duración=%{customdata[0]}<extra></extra>",
         "legendgroup": "Ejecución del Plan de contingencia",
         "marker": {
          "color": "#B6E880",
          "pattern": {
           "shape": ""
          }
         },
         "name": "Ejecución del Plan de contingencia",
         "orientation": "h",
         "showlegend": true,
         "textposition": "auto",
         "type": "bar",
         "x": [
          52531200000
         ],
         "xaxis": "x",
         "y": [
          "Ejecución del Plan de contingencia"
         ],
         "yaxis": "y"
        },
        {
         "base": [
          "2026-03-16T00:00:00.000000000"
         ],
         "customdata": [
          [
           "1a 5m 29d"
          ]
         ],
         "hovertemplate": "Etapa del Proyecto=%{y}<br>Inicio=%{base|%d %B %Y}<br>Fin=%{x|%d %B %Y}<br>Duración=%{customdata[0]}<extra></extra>",
         "legendgroup": "Ejecución del Componente 1 (Obra)",
         "marker": {
          "color": "#FF97FF",
          "pattern": {
           "shape": ""
          }
         },
         "name": "Ejecución del Componente 1 (Obra)",
         "orientation": "h",
         "showlegend": true,
         "textposition": "auto",
         "type": "bar",
         "x": [
          47260800000
         ],
         "xaxis": "x",
         "y": [
          "Ejecución del Componente 1 (Obra)"
         ],
         "yaxis": "y"
        },
        {
         "base": [
          "2026-03-16T00:00:00.000000000"
         ],
         "customdata": [
          [
           "1a 7m 29d"
          ]
         ],
         "hovertemplate": "Etapa del Proyecto=%{y}<br>Inicio=%{base|%d %B %Y}<br>Fin=%{x|%d %B %Y}<br>Duración=%{customdata[0]}<extra></extra>",
         "legendgroup": "Supervisión",
         "marker": {
          "color": "#FECB52",
          "pattern": {
           "shape": ""
          }
         },
         "name": "Supervisión",
         "orientation": "h",
         "showlegend": true,
         "textposition": "auto",
         "type": "bar",
         "x": [
          52531200000
         ],
         "xaxis": "x",
         "y": [
          "Supervisión"
         ],
         "yaxis": "y"
        },
        {
         "base": [
          "2026-03-16T00:00:00.000000000"
         ],
         "customdata": [
          [
           "1a 7m 29d"
          ]
         ],
         "hovertemplate": "Etapa del Proyecto=%{y}<br>Inicio=%{base|%d %B %Y}<br>Fin=%{x|%d %B %Y}<br>Duración=%{customdata[0]}<extra></extra>",
         "legendgroup": "Gestión del Proyecto",
         "marker": {
          "color": "#636efa",
          "pattern": {
           "shape": ""
          }
         },
         "name": "Gestión del Proyecto",
         "orientation": "h",
         "showlegend": true,
         "textposition": "auto",
         "type": "bar",
         "x": [
          52531200000
         ],
         "xaxis": "x",
         "y": [
          "Gestión del Proyecto"
         ],
         "yaxis": "y"
        },
        {
         "base": [
          "2027-06-16T00:00:00.000000000"
         ],
         "customdata": [
          [
           "0a 2m 29d"
          ]
         ],
         "hovertemplate": "Etapa del Proyecto=%{y}<br>Inicio=%{base|%d %B %Y}<br>Fin=%{x|%d %B %Y}<br>Duración=%{customdata[0]}<extra></extra>",
         "legendgroup": "Ejecución del Componente 2 y 3 (E&M)",
         "marker": {
          "color": "#EF553B",
          "pattern": {
           "shape": ""
          }
         },
         "name": "Ejecución del Componente 2 y 3 (E&M)",
         "orientation": "h",
         "showlegend": true,
         "textposition": "auto",
         "type": "bar",
         "x": [
          7776000000
         ],
         "xaxis": "x",
         "y": [
          "Ejecución del Componente 2 y 3 (E&M)"
         ],
         "yaxis": "y"
        },
        {
         "base": [
          "2027-06-16T00:00:00.000000000"
         ],
         "customdata": [
          [
           "0a 2m 29d"
          ]
         ],
         "hovertemplate": "Etapa del Proyecto=%{y}<br>Inicio=%{base|%d %B %Y}<br>Fin=%{x|%d %B %Y}<br>Duración=%{customdata[0]}<extra></extra>",
         "legendgroup": "Ejecución del Componente 4 (Intangibles)",
         "marker": {
          "color": "#00cc96",
          "pattern": {
           "shape": ""
          }
         },
         "name": "Ejecución del Componente 4 (Intangibles)",
         "orientation": "h",
         "showlegend": true,
         "textposition": "auto",
         "type": "bar",
         "x": [
          7776000000
         ],
         "xaxis": "x",
         "y": [
          "Ejecución del Componente 4 (Intangibles)"
         ],
         "yaxis": "y"
        },
        {
         "base": [
          "2027-09-15T00:00:00.000000000"
         ],
         "customdata": [
          [
           "0a 1m 30d"
          ]
         ],
         "hovertemplate": "Etapa del Proyecto=%{y}<br>Inicio=%{base|%d %B %Y}<br>Fin=%{x|%d %B %Y}<br>Duración=%{customdata[0]}<extra></extra>",
         "legendgroup": "Liquidación y entrega del Proyecto",
         "marker": {
          "color": "#ab63fa",
          "pattern": {
           "shape": ""
          }
         },
         "name": "Liquidación y entrega del Proyecto",
         "orientation": "h",
         "showlegend": true,
         "textposition": "auto",
         "type": "bar",
         "x": [
          5184000000
         ],
         "xaxis": "x",
         "y": [
          "Liquidación y entrega del Proyecto"
         ],
         "yaxis": "y"
        },
        {
         "base": [
          "2027-11-15T00:00:00.000000000"
         ],
         "customdata": [
          [
           "10a 0m 0d"
          ]
         ],
         "hovertemplate": "Etapa del Proyecto=%{y}<br>Inicio=%{base|%d %B %Y}<br>Fin=%{x|%d %B %Y}<br>Duración=%{customdata[0]}<extra></extra>",
         "legendgroup": "Funcionamiento",
         "marker": {
          "color": "#FFA15A",
          "pattern": {
           "shape": ""
          }
         },
         "name": "Funcionamiento",
         "orientation": "h",
         "showlegend": true,
         "textposition": "auto",
         "type": "bar",
         "x": [
          315619200000
         ],
         "xaxis": "x",
         "y": [
          "Funcionamiento"
         ],
         "yaxis": "y"
        }
       ],
       "layout": {
        "annotations": [
         {
          "bgcolor": "rgba(50,50,50,0.7)",
          "borderpad": 4,
          "font": {
           "color": "white",
           "family": "Segoe UI",
           "size": 11
          },
          "showarrow": false,
          "text": "Fin: 24-May-2025",
          "x": "2037-11-15T00:00:00",
          "xanchor": "right",
          "xshift": -5,
          "y": "Actos preparatorios",
          "yanchor": "middle"
         },
         {
          "bgcolor": "rgba(50,50,50,0.7)",
          "borderpad": 4,
          "font": {
           "color": "white",
           "family": "Segoe UI",
           "size": 11
          },
          "showarrow": false,
          "text": "Fin: 07-Aug-2025",
          "x": "2037-11-15T00:00:00",
          "xanchor": "right",
          "xshift": -5,
          "y": "Procedimiento de selección para ED",
          "yanchor": "middle"
         },
         {
          "bgcolor": "rgba(50,50,50,0.7)",
          "borderpad": 4,
          "font": {
           "color": "white",
           "family": "Segoe UI",
           "size": 11
          },
          "showarrow": false,
          "text": "Fin: 07-Sep-2025",
          "x": "2037-11-15T00:00:00",
          "xanchor": "right",
          "xshift": -5,
          "y": "Elaboración de los ET (Contingencia)",
          "yanchor": "middle"
         },
         {
          "bgcolor": "rgba(50,50,50,0.7)",
          "borderpad": 4,
          "font": {
           "color": "white",
           "family": "Segoe UI",
           "size": 11
          },
          "showarrow": false,
          "text": "Fin: 06-Dec-2025",
          "x": "2037-11-15T00:00:00",
          "xanchor": "right",
          "xshift": -5,
          "y": "Elaboración de los ET (Obra)",
          "yanchor": "middle"
         },
         {
          "bgcolor": "rgba(50,50,50,0.7)",
          "borderpad": 4,
          "font": {
           "color": "white",
           "family": "Segoe UI",
           "size": 11
          },
          "showarrow": false,
          "text": "Fin: 06-Dec-2025",
          "x": "2037-11-15T00:00:00",
          "xanchor": "right",
          "xshift": -5,
          "y": "Elaboración de las Esp. Téc. (Mob&Equi)",
          "yanchor": "middle"
         },
         {
          "bgcolor": "rgba(50,50,50,0.7)",
          "borderpad": 4,
          "font": {
           "color": "white",
           "family": "Segoe UI",
           "size": 11
          },
          "showarrow": false,
          "text": "Fin: 06-Dec-2025",
          "x": "2037-11-15T00:00:00",
          "xanchor": "right",
          "xshift": -5,
          "y": "Elaboración del Términos de Ref.",
          "yanchor": "middle"
         },
         {
          "bgcolor": "rgba(50,50,50,0.7)",
          "borderpad": 4,
          "font": {
           "color": "white",
           "family": "Segoe UI",
           "size": 11
          },
          "showarrow": false,
          "text": "Fin: 04-Feb-2026",
          "x": "2037-11-15T00:00:00",
          "xanchor": "right",
          "xshift": -5,
          "y": "Aprobación de los Est. Def.",
          "yanchor": "middle"
         },
         {
          "bgcolor": "rgba(50,50,50,0.7)",
          "borderpad": 4,
          "font": {
           "color": "white",
           "family": "Segoe UI",
           "size": 11
          },
          "showarrow": false,
          "text": "Fin: 14-Nov-2027",
          "x": "2037-11-15T00:00:00",
          "xanchor": "right",
          "xshift": -5,
          "y": "Ejecución del Plan de contingencia",
          "yanchor": "middle"
         },
         {
          "bgcolor": "rgba(50,50,50,0.7)",
          "borderpad": 4,
          "font": {
           "color": "white",
           "family": "Segoe UI",
           "size": 11
          },
          "showarrow": false,
          "text": "Fin: 14-Sep-2027",
          "x": "2037-11-15T00:00:00",
          "xanchor": "right",
          "xshift": -5,
          "y": "Ejecución del Componente 1 (Obra)",
          "yanchor": "middle"
         },
         {
          "bgcolor": "rgba(50,50,50,0.7)",
          "borderpad": 4,
          "font": {
           "color": "white",
           "family": "Segoe UI",
           "size": 11
          },
          "showarrow": false,
          "text": "Fin: 14-Sep-2027",
          "x": "2037-11-15T00:00:00",
          "xanchor": "right",
          "xshift": -5,
          "y": "Ejecución del Componente 2 y 3 (E&M)",
          "yanchor": "middle"
         },
         {
          "bgcolor": "rgba(50,50,50,0.7)",
          "borderpad": 4,
          "font": {
           "color": "white",
           "family": "Segoe UI",
           "size": 11
          },
          "showarrow": false,
          "text": "Fin: 14-Sep-2027",
          "x": "2037-11-15T00:00:00",
          "xanchor": "right",
          "xshift": -5,
          "y": "Ejecución del Componente 4 (Intangibles)",
          "yanchor": "middle"
         },
         {
          "bgcolor": "rgba(50,50,50,0.7)",
          "borderpad": 4,
          "font": {
           "color": "white",
           "family": "Segoe UI",
           "size": 11
          },
          "showarrow": false,
          "text": "Fin: 14-Nov-2027",
          "x": "2037-11-15T00:00:00",
          "xanchor": "right",
          "xshift": -5,
          "y": "Liquidación y entrega del Proyecto",
          "yanchor": "middle"
         },
         {
          "bgcolor": "rgba(50,50,50,0.7)",
          "borderpad": 4,
          "font": {
           "color": "white",
           "family": "Segoe UI",
           "size": 11
          },
          "showarrow": false,
          "text": "Fin: 14-Nov-2027",
          "x": "2037-11-15T00:00:00",
          "xanchor": "right",
          "xshift": -5,
          "y": "Supervisión",
          "yanchor": "middle"
         },
         {
          "bgcolor": "rgba(50,50,50,0.7)",
          "borderpad": 4,
          "font": {
           "color": "white",
           "family": "Segoe UI",
           "size": 11
          },
          "showarrow": false,
          "text": "Fin: 14-Nov-2027",
          "x": "2037-11-15T00:00:00",
          "xanchor": "right",
          "xshift": -5,
          "y": "Gestión del Proyecto",
          "yanchor": "middle"
         },
         {
          "bgcolor": "rgba(50,50,50,0.7)",
          "borderpad": 4,
          "font": {
           "color": "white",
           "family": "Segoe UI",
           "size": 11
          },
          "showarrow": false,
          "text": "Fin: 15-Nov-2037",
          "x": "2037-11-15T00:00:00",
          "xanchor": "right",
          "xshift": -5,
          "y": "Funcionamiento",
          "yanchor": "middle"
         }
        ],
        "autosize": true,
        "barmode": "overlay",
        "font": {
         "color": "#c9d1d9"
        },
        "legend": {
         "title": {
          "text": "Etapas"
         },
         "tracegroupgap": 0
        },
        "margin": {
         "b": 40,
         "l": 40,
         "r": 20,
         "t": 60
        },
        "paper_bgcolor": "#0d1117",
        "plot_bgcolor": "#0d1117",
        "template": {
         "data": {
          "bar": [
           {
            "error_x": {
             "color": "#2a3f5f"
            },
            "error_y": {
             "color": "#2a3f5f"
            },
            "marker": {
             "line": {
              "color": "#E5ECF6",
              "width": 0.5
             },
             "pattern": {
              "fillmode": "overlay",
              "size": 10,
              "solidity": 0.2
             }
            },
            "type": "bar"
           }
          ],
          "barpolar": [
           {
            "marker": {
             "line": {
              "color": "#E5ECF6",
              "width": 0.5
             },
             "pattern": {
              "fillmode": "overlay",
              "size": 10,
              "solidity": 0.2
             }
            },
            "type": "barpolar"
           }
          ],
          "carpet": [
           {
            "aaxis": {
             "endlinecolor": "#2a3f5f",
             "gridcolor": "white",
             "linecolor": "white",
             "minorgridcolor": "white",
             "startlinecolor": "#2a3f5f"
            },
            "baxis": {
             "endlinecolor": "#2a3f5f",
             "gridcolor": "white",
             "linecolor": "white",
             "minorgridcolor": "white",
             "startlinecolor": "#2a3f5f"
            },
            "type": "carpet"
           }
          ],
          "choropleth": [
           {
            "colorbar": {
             "outlinewidth": 0,
             "ticks": ""
            },
            "type": "choropleth"
           }
          ],
          "contour": [
           {
            "colorbar": {
             "outlinewidth": 0,
             "ticks": ""
            },
            "colorscale": [
             [
              0,
              "#0d0887"
             ],
             [
              0.1111111111111111,
              "#46039f"
             ],
             [
              0.2222222222222222,
              "#7201a8"
             ],
             [
              0.3333333333333333,
              "#9c179e"
             ],
             [
              0.4444444444444444,
              "#bd3786"
             ],
             [
              0.5555555555555556,
              "#d8576b"
             ],
             [
              0.6666666666666666,
              "#ed7953"
             ],
             [
              0.7777777777777778,
              "#fb9f3a"
             ],
             [
              0.8888888888888888,
              "#fdca26"
             ],
             [
              1,
              "#f0f921"
             ]
            ],
            "type": "contour"
           }
          ],
          "contourcarpet": [
           {
            "colorbar": {
             "outlinewidth": 0,
             "ticks": ""
            },
            "type": "contourcarpet"
           }
          ],
          "heatmap": [
           {
            "colorbar": {
             "outlinewidth": 0,
             "ticks": ""
            },
            "colorscale": [
             [
              0,
              "#0d0887"
             ],
             [
              0.1111111111111111,
              "#46039f"
             ],
             [
              0.2222222222222222,
              "#7201a8"
             ],
             [
              0.3333333333333333,
              "#9c179e"
             ],
             [
              0.4444444444444444,
              "#bd3786"
             ],
             [
              0.5555555555555556,
              "#d8576b"
             ],
             [
              0.6666666666666666,
              "#ed7953"
             ],
             [
              0.7777777777777778,
              "#fb9f3a"
             ],
             [
              0.8888888888888888,
              "#fdca26"
             ],
             [
              1,
              "#f0f921"
             ]
            ],
            "type": "heatmap"
           }
          ],
          "histogram": [
           {
            "marker": {
             "pattern": {
              "fillmode": "overlay",
              "size": 10,
              "solidity": 0.2
             }
            },
            "type": "histogram"
           }
          ],
          "histogram2d": [
           {
            "colorbar": {
             "outlinewidth": 0,
             "ticks": ""
            },
            "colorscale": [
             [
              0,
              "#0d0887"
             ],
             [
              0.1111111111111111,
              "#46039f"
             ],
             [
              0.2222222222222222,
              "#7201a8"
             ],
             [
              0.3333333333333333,
              "#9c179e"
             ],
             [
              0.4444444444444444,
              "#bd3786"
             ],
             [
              0.5555555555555556,
              "#d8576b"
             ],
             [
              0.6666666666666666,
              "#ed7953"
             ],
             [
              0.7777777777777778,
              "#fb9f3a"
             ],
             [
              0.8888888888888888,
              "#fdca26"
             ],
             [
              1,
              "#f0f921"
             ]
            ],
            "type": "histogram2d"
           }
          ],
          "histogram2dcontour": [
           {
            "colorbar": {
             "outlinewidth": 0,
             "ticks": ""
            },
            "colorscale": [
             [
              0,
              "#0d0887"
             ],
             [
              0.1111111111111111,
              "#46039f"
             ],
             [
              0.2222222222222222,
              "#7201a8"
             ],
             [
              0.3333333333333333,
              "#9c179e"
             ],
             [
              0.4444444444444444,
              "#bd3786"
             ],
             [
              0.5555555555555556,
              "#d8576b"
             ],
             [
              0.6666666666666666,
              "#ed7953"
             ],
             [
              0.7777777777777778,
              "#fb9f3a"
             ],
             [
              0.8888888888888888,
              "#fdca26"
             ],
             [
              1,
              "#f0f921"
             ]
            ],
            "type": "histogram2dcontour"
           }
          ],
          "mesh3d": [
           {
            "colorbar": {
             "outlinewidth": 0,
             "ticks": ""
            },
            "type": "mesh3d"
           }
          ],
          "parcoords": [
           {
            "line": {
             "colorbar": {
              "outlinewidth": 0,
              "ticks": ""
             }
            },
            "type": "parcoords"
           }
          ],
          "pie": [
           {
            "automargin": true,
            "type": "pie"
           }
          ],
          "scatter": [
           {
            "fillpattern": {
             "fillmode": "overlay",
             "size": 10,
             "solidity": 0.2
            },
            "type": "scatter"
           }
          ],
          "scatter3d": [
           {
            "line": {
             "colorbar": {
              "outlinewidth": 0,
              "ticks": ""
             }
            },
            "marker": {
             "colorbar": {
              "outlinewidth": 0,
              "ticks": ""
             }
            },
            "type": "scatter3d"
           }
          ],
          "scattercarpet": [
           {
            "marker": {
             "colorbar": {
              "outlinewidth": 0,
              "ticks": ""
             }
            },
            "type": "scattercarpet"
           }
          ],
          "scattergeo": [
           {
            "marker": {
             "colorbar": {
              "outlinewidth": 0,
              "ticks": ""
             }
            },
            "type": "scattergeo"
           }
          ],
          "scattergl": [
           {
            "marker": {
             "colorbar": {
              "outlinewidth": 0,
              "ticks": ""
             }
            },
            "type": "scattergl"
           }
          ],
          "scattermap": [
           {
            "marker": {
             "colorbar": {
              "outlinewidth": 0,
              "ticks": ""
             }
            },
            "type": "scattermap"
           }
          ],
          "scattermapbox": [
           {
            "marker": {
             "colorbar": {
              "outlinewidth": 0,
              "ticks": ""
             }
            },
            "type": "scattermapbox"
           }
          ],
          "scatterpolar": [
           {
            "marker": {
             "colorbar": {
              "outlinewidth": 0,
              "ticks": ""
             }
            },
            "type": "scatterpolar"
           }
          ],
          "scatterpolargl": [
           {
            "marker": {
             "colorbar": {
              "outlinewidth": 0,
              "ticks": ""
             }
            },
            "type": "scatterpolargl"
           }
          ],
          "scatterternary": [
           {
            "marker": {
             "colorbar": {
              "outlinewidth": 0,
              "ticks": ""
             }
            },
            "type": "scatterternary"
           }
          ],
          "surface": [
           {
            "colorbar": {
             "outlinewidth": 0,
             "ticks": ""
            },
            "colorscale": [
             [
              0,
              "#0d0887"
             ],
             [
              0.1111111111111111,
              "#46039f"
             ],
             [
              0.2222222222222222,
              "#7201a8"
             ],
             [
              0.3333333333333333,
              "#9c179e"
             ],
             [
              0.4444444444444444,
              "#bd3786"
             ],
             [
              0.5555555555555556,
              "#d8576b"
             ],
             [
              0.6666666666666666,
              "#ed7953"
             ],
             [
              0.7777777777777778,
              "#fb9f3a"
             ],
             [
              0.8888888888888888,
              "#fdca26"
             ],
             [
              1,
              "#f0f921"
             ]
            ],
            "type": "surface"
           }
          ],
          "table": [
           {
            "cells": {
             "fill": {
              "color": "#EBF0F8"
             },
             "line": {
              "color": "white"
             }
            },
            "header": {
             "fill": {
              "color": "#C8D4E3"
             },
             "line": {
              "color": "white"
             }
            },
            "type": "table"
           }
          ]
         },
         "layout": {
          "annotationdefaults": {
           "arrowcolor": "#2a3f5f",
           "arrowhead": 0,
           "arrowwidth": 1
          },
          "autotypenumbers": "strict",
          "coloraxis": {
           "colorbar": {
            "outlinewidth": 0,
            "ticks": ""
           }
          },
          "colorscale": {
           "diverging": [
            [
             0,
             "#8e0152"
            ],
            [
             0.1,
             "#c51b7d"
            ],
            [
             0.2,
             "#de77ae"
            ],
            [
             0.3,
             "#f1b6da"
            ],
            [
             0.4,
             "#fde0ef"
            ],
            [
             0.5,
             "#f7f7f7"
            ],
            [
             0.6,
             "#e6f5d0"
            ],
            [
             0.7,
             "#b8e186"
            ],
            [
             0.8,
             "#7fbc41"
            ],
            [
             0.9,
             "#4d9221"
            ],
            [
             1,
             "#276419"
            ]
           ],
           "sequential": [
            [
             0,
             "#0d0887"
            ],
            [
             0.1111111111111111,
             "#46039f"
            ],
            [
             0.2222222222222222,
             "#7201a8"
            ],
            [
             0.3333333333333333,
             "#9c179e"
            ],
            [
             0.4444444444444444,
             "#bd3786"
            ],
            [
             0.5555555555555556,
             "#d8576b"
            ],
            [
             0.6666666666666666,
             "#ed7953"
            ],
            [
             0.7777777777777778,
             "#fb9f3a"
            ],
            [
             0.8888888888888888,
             "#fdca26"
            ],
            [
             1,
             "#f0f921"
            ]
           ],
           "sequentialminus": [
            [
             0,
             "#0d0887"
            ],
            [
             0.1111111111111111,
             "#46039f"
            ],
            [
             0.2222222222222222,
             "#7201a8"
            ],
            [
             0.3333333333333333,
             "#9c179e"
            ],
            [
             0.4444444444444444,
             "#bd3786"
            ],
            [
             0.5555555555555556,
             "#d8576b"
            ],
            [
             0.6666666666666666,
             "#ed7953"
            ],
            [
             0.7777777777777778,
             "#fb9f3a"
            ],
            [
             0.8888888888888888,
             "#fdca26"
            ],
            [
             1,
             "#f0f921"
            ]
           ]
          },
          "colorway": [
           "#636efa",
           "#EF553B",
           "#00cc96",
           "#ab63fa",
           "#FFA15A",
           "#19d3f3",
           "#FF6692",
           "#B6E880",
           "#FF97FF",
           "#FECB52"
          ],
          "font": {
           "color": "#2a3f5f"
          },
          "geo": {
           "bgcolor": "white",
           "lakecolor": "white",
           "landcolor": "#E5ECF6",
           "showlakes": true,
           "showland": true,
           "subunitcolor": "white"
          },
          "hoverlabel": {
           "align": "left"
          },
          "hovermode": "closest",
          "mapbox": {
           "style": "light"
          },
          "paper_bgcolor": "white",
          "plot_bgcolor": "#E5ECF6",
          "polar": {
           "angularaxis": {
            "gridcolor": "white",
            "linecolor": "white",
            "ticks": ""
           },
           "bgcolor": "#E5ECF6",
           "radialaxis": {
            "gridcolor": "white",
            "linecolor": "white",
            "ticks": ""
           }
          },
          "scene": {
           "xaxis": {
            "backgroundcolor": "#E5ECF6",
            "gridcolor": "white",
            "gridwidth": 2,
            "linecolor": "white",
            "showbackground": true,
            "ticks": "",
            "zerolinecolor": "white"
           },
           "yaxis": {
            "backgroundcolor": "#E5ECF6",
            "gridcolor": "white",
            "gridwidth": 2,
            "linecolor": "white",
            "showbackground": true,
            "ticks": "",
            "zerolinecolor": "white"
           },
           "zaxis": {
            "backgroundcolor": "#E5ECF6",
            "gridcolor": "white",
            "gridwidth": 2,
            "linecolor": "white",
            "showbackground": true,
            "ticks": "",
            "zerolinecolor": "white"
           }
          },
          "shapedefaults": {
           "line": {
            "color": "#2a3f5f"
           }
          },
          "ternary": {
           "aaxis": {
            "gridcolor": "white",
            "linecolor": "white",
            "ticks": ""
           },
           "baxis": {
            "gridcolor": "white",
            "linecolor": "white",
            "ticks": ""
           },
           "bgcolor": "#E5ECF6",
           "caxis": {
            "gridcolor": "white",
            "linecolor": "white",
            "ticks": ""
           }
          },
          "title": {
           "x": 0.05
          },
          "xaxis": {
           "automargin": true,
           "gridcolor": "white",
           "linecolor": "white",
           "ticks": "",
           "title": {
            "standoff": 15
           },
           "zerolinecolor": "white",
           "zerolinewidth": 2
          },
          "yaxis": {
           "automargin": true,
           "gridcolor": "white",
           "linecolor": "white",
           "ticks": "",
           "title": {
            "standoff": 15
           },
           "zerolinecolor": "white",
           "zerolinewidth": 2
          }
         }
        },
        "title": {
         "text": "HORIZONTE DE EVALUACIÓN DEL PROYECTO",
         "x": 0.5
        },
        "xaxis": {
         "anchor": "y",
         "domain": [
          0,
          1
         ],
         "type": "date"
        },
        "yaxis": {
         "anchor": "x",
         "categoryarray": [
          "Funcionamiento",
          "Liquidación y entrega del Proyecto",
          "Ejecución del Componente 4 (Intangibles)",
          "Ejecución del Componente 2 y 3 (E&M)",
          "Gestión del Proyecto",
          "Supervisión",
          "Ejecución del Componente 1 (Obra)",
          "Ejecución del Plan de contingencia",
          "Aprobación de los Est. Def.",
          "Elaboración del Términos de Ref.",
          "Elaboración de las Esp. Téc. (Mob&Equi)",
          "Elaboración de los ET (Obra)",
          "Elaboración de los ET (Contingencia)",
          "Procedimiento de selección para ED",
          "Actos preparatorios"
         ],
         "categoryorder": "array",
         "domain": [
          0,
          1
         ],
         "showticklabels": false,
         "title": {
          "text": "Etapa del Proyecto"
         },
         "visible": false
        }
       }
      }
     },
     "metadata": {},
     "output_type": "display_data"
    }
   ],
   "source": [
    "import pandas as pd\n",
    "import plotly.express as px\n",
    "from dateutil.relativedelta import relativedelta\n",
    "\n",
    "# ─── 2. DURACIÓN Y TEXTO ───────────────────────────────────\n",
    "df['Duración'] = df.apply(\n",
    "    lambda r: f\"{relativedelta(r['Fin'], r['Inicio']).years}a \"\n",
    "              f\"{relativedelta(r['Fin'], r['Inicio']).months}m \"\n",
    "              f\"{relativedelta(r['Fin'], r['Inicio']).days}d\", axis=1\n",
    ")\n",
    "\n",
    "df['texto_anotacion'] = \"Fin: \" + df['Fin'].dt.strftime(\"%d-%b-%Y\")\n",
    "\n",
    "# ─── 3. GRÁFICO ─────────────────────────────────────────────\n",
    "fig = px.timeline(\n",
    "    df.sort_values(by=\"Inicio\"),\n",
    "    x_start=\"Inicio\",\n",
    "    x_end=\"Fin\",\n",
    "    y=\"Etapa\",\n",
    "    color=\"Etapa\",\n",
    "    hover_data={\"Duración\": True, \"Etapa\": True, \"Inicio\": \"|%d %B %Y\", \"Fin\": \"|%d %B %Y\"},\n",
    "    labels={\"Etapa\": \"Etapa del Proyecto\"},\n",
    ")\n",
    "\n",
    "fig.update_yaxes(showticklabels=False)\n",
    "\n",
    "# ─── 4. POSICIÓN FINAL DE ANOTACIONES ──────────────────────\n",
    "xmax = df[\"Fin\"].max()\n",
    "\n",
    "for i, row in df.iterrows():\n",
    "    fig.add_annotation(\n",
    "        x=xmax,\n",
    "        y=row['Etapa'],\n",
    "        text=row['texto_anotacion'],\n",
    "        showarrow=False,\n",
    "        font=dict(\n",
    "            size=11,                # Tamaño de fuente\n",
    "            color=\"white\",\n",
    "            family=\"Segoe UI\"      # Tipo de letra\n",
    "        ),\n",
    "        xanchor=\"right\",\n",
    "        yanchor=\"middle\",\n",
    "        xshift=-5,\n",
    "        bgcolor=\"rgba(50,50,50,0.7)\",  # Fondo simulado (solo si usas `annotation`)\n",
    "        borderpad=4\n",
    "    )\n",
    "\n",
    "# ─── 5. ESTILO ──────────────────────────────────────────────\n",
    "fig.update_layout(\n",
    "    title=\"HORIZONTE DE EVALUACIÓN DEL PROYECTO\",\n",
    "    title_x=0.5,\n",
    "    autosize=True,\n",
    "    yaxis_visible=False,\n",
    "    height=None,  # ← evita height fijo\n",
    "    margin=dict(t=60, r=20, l=40, b=40),\n",
    "    plot_bgcolor=\"#0d1117\",\n",
    "    paper_bgcolor=\"#0d1117\",\n",
    "    font=dict(color=\"#c9d1d9\"),\n",
    "    legend_title_text='Etapas',\n",
    ")\n",
    "# ─── EXPORTACIÓN A HTML ───────────────────────────────────\n",
    "fig.write_html(r\"Z:\\02_Maestría UNI\\I_TALLER DE PROYECTOS II\\EXPOSICION\\expo2_akira\\docs\\plots\\gantt_akirakato.html\",\n",
    "    full_html=True,\n",
    "    include_plotlyjs=\"cdn\",\n",
    "    config={\"responsive\": True}\n",
    ")\n",
    "fig.show()\n"
   ]
  },
  {
   "cell_type": "code",
   "execution_count": 60,
   "id": "73f2e8a4",
   "metadata": {},
   "outputs": [
    {
     "data": {
      "application/vnd.plotly.v1+json": {
       "config": {
        "plotlyServerURL": "https://plot.ly"
       },
       "data": [
        {
         "base": [
          -359,
          -388.5,
          -407,
          -423,
          -476,
          -514.5,
          -547,
          -580,
          -613.5,
          -620.5,
          -627.5,
          -635,
          -642.5
         ],
         "marker": {
          "color": "rgb(136, 204, 238)"
         },
         "name": "1° grado",
         "text": {
          "bdata": "AAAAAAAAZkAAAAAAAEBmQAAAAAAAgGZAAAAAAADgZkAAAAAAAIBtQAAAAAAA4G1AAAAAAAAgbkAAAAAAAIBuQAAAAAAA4G5AAAAAAABAb0AAAAAAAKBvQAAAAAAAAHBAAAAAAAAwcEA=",
          "dtype": "f8"
         },
         "textfont": {
          "color": "white",
          "size": 14
         },
         "textposition": "inside",
         "type": "bar",
         "x": {
          "bdata": "6QfqB+sH7AftB+4H7wfwB/EH8gfzB/QH9Qc=",
          "dtype": "i2"
         },
         "y": {
          "bdata": "sACyALQAtwDsAO8A8QD0APcA+gD9AAABAwE=",
          "dtype": "i2"
         }
        },
        {
         "base": [
          -183,
          -210.5,
          -227,
          -240,
          -240,
          -275.5,
          -306,
          -336,
          -366.5,
          -370.5,
          -374.5,
          -379,
          -383.5
         ],
         "marker": {
          "color": "rgb(204, 102, 119)"
         },
         "name": "2° grado",
         "text": {
          "bdata": "AAAAAADAYUAAAAAAAABmQAAAAAAAQGZAAAAAAACAZkAAAAAAAOBmQAAAAAAAoG1AAAAAAAAAbkAAAAAAAEBuQAAAAAAAoG5AAAAAAAAAb0AAAAAAAGBvQAAAAAAAwG9AAAAAAAAQcEA=",
          "dtype": "f8"
         },
         "textfont": {
          "color": "white",
          "size": 14
         },
         "textposition": "inside",
         "type": "bar",
         "x": {
          "bdata": "6QfqB+sH7AftB+4H7wfwB/EH8gfzB/QH9Qc=",
          "dtype": "i2"
         },
         "y": {
          "bdata": "jgCwALIAtAC3AO0A8ADyAPUA+AD7AP4AAQE=",
          "dtype": "i2"
         }
        },
        {
         "base": [
          -41,
          -34.5,
          -49,
          -60,
          -57,
          -38.5,
          -66,
          -94,
          -121.5,
          -122.5,
          -123.5,
          -125,
          -126.5
         ],
         "marker": {
          "color": "rgb(221, 204, 119)"
         },
         "name": "3° grado",
         "text": {
          "bdata": "AAAAAAAAY0AAAAAAAABiQAAAAAAAYGZAAAAAAACgZkAAAAAAAOBmQAAAAAAAQGdAAAAAAAAgbkAAAAAAAIBuQAAAAAAAwG5AAAAAAAAgb0AAAAAAAIBvQAAAAAAA4G9AAAAAAAAgcEA=",
          "dtype": "f8"
         },
         "textfont": {
          "color": "white",
          "size": 14
         },
         "textposition": "inside",
         "type": "bar",
         "x": {
          "bdata": "6QfqB+sH7AftB+4H7wfwB/EH8gfzB/QH9Qc=",
          "dtype": "i2"
         },
         "y": {
          "bdata": "mACQALMAtQC3ALoA8QD0APYA+QD8AP8AAgE=",
          "dtype": "i2"
         }
        },
        {
         "base": [
          111,
          109.5,
          130,
          121,
          126,
          147.5,
          175,
          150,
          124.5,
          126.5,
          128.5,
          130,
          131.5
         ],
         "marker": {
          "color": "rgb(17, 119, 51)"
         },
         "name": "4° grado",
         "text": {
          "bdata": "AAAAAAAAYUAAAAAAAKBhQAAAAAAAwGBAAAAAAADAZEAAAAAAAKBmQAAAAAAA4GZAAAAAAABAZ0AAAAAAACBuQAAAAAAAgG5AAAAAAADAbkAAAAAAACBvQAAAAAAAgG9AAAAAAADgb0A=",
          "dtype": "f8"
         },
         "textfont": {
          "color": "white",
          "size": 14
         },
         "textposition": "inside",
         "type": "bar",
         "x": {
          "bdata": "6QfqB+sH7AftB+4H7wfwB/EH8gfzB/QH9Qc=",
          "dtype": "i2"
         },
         "y": {
          "bdata": "iACNAIYApgC1ALcAugDxAPQA9gD5APwA/wA=",
          "dtype": "i2"
         }
        },
        {
         "base": [
          247,
          250.5,
          264,
          287,
          307,
          330.5,
          361,
          391,
          368.5,
          372.5,
          377.5,
          382,
          386.5
         ],
         "marker": {
          "color": "rgb(51, 34, 136)"
         },
         "name": "5° grado",
         "text": {
          "bdata": "AAAAAAAAXEAAAAAAAEBhQAAAAAAA4GFAAAAAAAAAYUAAAAAAACBlQAAAAAAAAGdAAAAAAABAZ0AAAAAAAKBnQAAAAAAAoG5AAAAAAAAAb0AAAAAAAEBvQAAAAAAAoG9AAAAAAAAAcEA=",
          "dtype": "f8"
         },
         "textfont": {
          "color": "white",
          "size": 14
         },
         "textposition": "inside",
         "type": "bar",
         "x": {
          "bdata": "6QfqB+sH7AftB+4H7wfwB/EH8gfzB/QH9Qc=",
          "dtype": "i2"
         },
         "y": {
          "bdata": "cACKAI8AiACpALgAugC9APUA+AD6AP0AAAE=",
          "dtype": "i2"
         }
        }
       ],
       "layout": {
        "autosize": true,
        "barmode": "stack",
        "font": {
         "color": "#c9d1d9"
        },
        "legend": {
         "title": {
          "text": "Grado"
         }
        },
        "margin": {
         "b": 40,
         "l": 40,
         "r": 20,
         "t": 60
        },
        "paper_bgcolor": "#0d1117",
        "plot_bgcolor": "#0d1117",
        "shapes": [
         {
          "layer": "below",
          "line": {
           "color": "rgba(255,255,255,0.1)",
           "width": 10
          },
          "type": "line",
          "x0": 2025,
          "x1": 2025,
          "y0": -642.5,
          "y1": 642.5
         },
         {
          "layer": "below",
          "line": {
           "color": "rgba(255,255,255,0.1)",
           "width": 10
          },
          "type": "line",
          "x0": 2026,
          "x1": 2026,
          "y0": -642.5,
          "y1": 642.5
         },
         {
          "layer": "below",
          "line": {
           "color": "rgba(255,255,255,0.1)",
           "width": 10
          },
          "type": "line",
          "x0": 2027,
          "x1": 2027,
          "y0": -642.5,
          "y1": 642.5
         },
         {
          "layer": "below",
          "line": {
           "color": "rgba(255,255,255,0.1)",
           "width": 10
          },
          "type": "line",
          "x0": 2028,
          "x1": 2028,
          "y0": -642.5,
          "y1": 642.5
         },
         {
          "layer": "below",
          "line": {
           "color": "rgba(255,255,255,0.1)",
           "width": 10
          },
          "type": "line",
          "x0": 2029,
          "x1": 2029,
          "y0": -642.5,
          "y1": 642.5
         },
         {
          "layer": "below",
          "line": {
           "color": "rgba(255,255,255,0.1)",
           "width": 10
          },
          "type": "line",
          "x0": 2030,
          "x1": 2030,
          "y0": -642.5,
          "y1": 642.5
         },
         {
          "layer": "below",
          "line": {
           "color": "rgba(255,255,255,0.1)",
           "width": 10
          },
          "type": "line",
          "x0": 2031,
          "x1": 2031,
          "y0": -642.5,
          "y1": 642.5
         },
         {
          "layer": "below",
          "line": {
           "color": "rgba(255,255,255,0.1)",
           "width": 10
          },
          "type": "line",
          "x0": 2032,
          "x1": 2032,
          "y0": -642.5,
          "y1": 642.5
         },
         {
          "layer": "below",
          "line": {
           "color": "rgba(255,255,255,0.1)",
           "width": 10
          },
          "type": "line",
          "x0": 2033,
          "x1": 2033,
          "y0": -642.5,
          "y1": 642.5
         },
         {
          "layer": "below",
          "line": {
           "color": "rgba(255,255,255,0.1)",
           "width": 10
          },
          "type": "line",
          "x0": 2034,
          "x1": 2034,
          "y0": -642.5,
          "y1": 642.5
         },
         {
          "layer": "below",
          "line": {
           "color": "rgba(255,255,255,0.1)",
           "width": 10
          },
          "type": "line",
          "x0": 2035,
          "x1": 2035,
          "y0": -642.5,
          "y1": 642.5
         },
         {
          "layer": "below",
          "line": {
           "color": "rgba(255,255,255,0.1)",
           "width": 10
          },
          "type": "line",
          "x0": 2036,
          "x1": 2036,
          "y0": -642.5,
          "y1": 642.5
         },
         {
          "layer": "below",
          "line": {
           "color": "rgba(255,255,255,0.1)",
           "width": 10
          },
          "type": "line",
          "x0": 2037,
          "x1": 2037,
          "y0": -642.5,
          "y1": 642.5
         }
        ],
        "template": {
         "data": {
          "bar": [
           {
            "error_x": {
             "color": "#2a3f5f"
            },
            "error_y": {
             "color": "#2a3f5f"
            },
            "marker": {
             "line": {
              "color": "#E5ECF6",
              "width": 0.5
             },
             "pattern": {
              "fillmode": "overlay",
              "size": 10,
              "solidity": 0.2
             }
            },
            "type": "bar"
           }
          ],
          "barpolar": [
           {
            "marker": {
             "line": {
              "color": "#E5ECF6",
              "width": 0.5
             },
             "pattern": {
              "fillmode": "overlay",
              "size": 10,
              "solidity": 0.2
             }
            },
            "type": "barpolar"
           }
          ],
          "carpet": [
           {
            "aaxis": {
             "endlinecolor": "#2a3f5f",
             "gridcolor": "white",
             "linecolor": "white",
             "minorgridcolor": "white",
             "startlinecolor": "#2a3f5f"
            },
            "baxis": {
             "endlinecolor": "#2a3f5f",
             "gridcolor": "white",
             "linecolor": "white",
             "minorgridcolor": "white",
             "startlinecolor": "#2a3f5f"
            },
            "type": "carpet"
           }
          ],
          "choropleth": [
           {
            "colorbar": {
             "outlinewidth": 0,
             "ticks": ""
            },
            "type": "choropleth"
           }
          ],
          "contour": [
           {
            "colorbar": {
             "outlinewidth": 0,
             "ticks": ""
            },
            "colorscale": [
             [
              0,
              "#0d0887"
             ],
             [
              0.1111111111111111,
              "#46039f"
             ],
             [
              0.2222222222222222,
              "#7201a8"
             ],
             [
              0.3333333333333333,
              "#9c179e"
             ],
             [
              0.4444444444444444,
              "#bd3786"
             ],
             [
              0.5555555555555556,
              "#d8576b"
             ],
             [
              0.6666666666666666,
              "#ed7953"
             ],
             [
              0.7777777777777778,
              "#fb9f3a"
             ],
             [
              0.8888888888888888,
              "#fdca26"
             ],
             [
              1,
              "#f0f921"
             ]
            ],
            "type": "contour"
           }
          ],
          "contourcarpet": [
           {
            "colorbar": {
             "outlinewidth": 0,
             "ticks": ""
            },
            "type": "contourcarpet"
           }
          ],
          "heatmap": [
           {
            "colorbar": {
             "outlinewidth": 0,
             "ticks": ""
            },
            "colorscale": [
             [
              0,
              "#0d0887"
             ],
             [
              0.1111111111111111,
              "#46039f"
             ],
             [
              0.2222222222222222,
              "#7201a8"
             ],
             [
              0.3333333333333333,
              "#9c179e"
             ],
             [
              0.4444444444444444,
              "#bd3786"
             ],
             [
              0.5555555555555556,
              "#d8576b"
             ],
             [
              0.6666666666666666,
              "#ed7953"
             ],
             [
              0.7777777777777778,
              "#fb9f3a"
             ],
             [
              0.8888888888888888,
              "#fdca26"
             ],
             [
              1,
              "#f0f921"
             ]
            ],
            "type": "heatmap"
           }
          ],
          "histogram": [
           {
            "marker": {
             "pattern": {
              "fillmode": "overlay",
              "size": 10,
              "solidity": 0.2
             }
            },
            "type": "histogram"
           }
          ],
          "histogram2d": [
           {
            "colorbar": {
             "outlinewidth": 0,
             "ticks": ""
            },
            "colorscale": [
             [
              0,
              "#0d0887"
             ],
             [
              0.1111111111111111,
              "#46039f"
             ],
             [
              0.2222222222222222,
              "#7201a8"
             ],
             [
              0.3333333333333333,
              "#9c179e"
             ],
             [
              0.4444444444444444,
              "#bd3786"
             ],
             [
              0.5555555555555556,
              "#d8576b"
             ],
             [
              0.6666666666666666,
              "#ed7953"
             ],
             [
              0.7777777777777778,
              "#fb9f3a"
             ],
             [
              0.8888888888888888,
              "#fdca26"
             ],
             [
              1,
              "#f0f921"
             ]
            ],
            "type": "histogram2d"
           }
          ],
          "histogram2dcontour": [
           {
            "colorbar": {
             "outlinewidth": 0,
             "ticks": ""
            },
            "colorscale": [
             [
              0,
              "#0d0887"
             ],
             [
              0.1111111111111111,
              "#46039f"
             ],
             [
              0.2222222222222222,
              "#7201a8"
             ],
             [
              0.3333333333333333,
              "#9c179e"
             ],
             [
              0.4444444444444444,
              "#bd3786"
             ],
             [
              0.5555555555555556,
              "#d8576b"
             ],
             [
              0.6666666666666666,
              "#ed7953"
             ],
             [
              0.7777777777777778,
              "#fb9f3a"
             ],
             [
              0.8888888888888888,
              "#fdca26"
             ],
             [
              1,
              "#f0f921"
             ]
            ],
            "type": "histogram2dcontour"
           }
          ],
          "mesh3d": [
           {
            "colorbar": {
             "outlinewidth": 0,
             "ticks": ""
            },
            "type": "mesh3d"
           }
          ],
          "parcoords": [
           {
            "line": {
             "colorbar": {
              "outlinewidth": 0,
              "ticks": ""
             }
            },
            "type": "parcoords"
           }
          ],
          "pie": [
           {
            "automargin": true,
            "type": "pie"
           }
          ],
          "scatter": [
           {
            "fillpattern": {
             "fillmode": "overlay",
             "size": 10,
             "solidity": 0.2
            },
            "type": "scatter"
           }
          ],
          "scatter3d": [
           {
            "line": {
             "colorbar": {
              "outlinewidth": 0,
              "ticks": ""
             }
            },
            "marker": {
             "colorbar": {
              "outlinewidth": 0,
              "ticks": ""
             }
            },
            "type": "scatter3d"
           }
          ],
          "scattercarpet": [
           {
            "marker": {
             "colorbar": {
              "outlinewidth": 0,
              "ticks": ""
             }
            },
            "type": "scattercarpet"
           }
          ],
          "scattergeo": [
           {
            "marker": {
             "colorbar": {
              "outlinewidth": 0,
              "ticks": ""
             }
            },
            "type": "scattergeo"
           }
          ],
          "scattergl": [
           {
            "marker": {
             "colorbar": {
              "outlinewidth": 0,
              "ticks": ""
             }
            },
            "type": "scattergl"
           }
          ],
          "scattermap": [
           {
            "marker": {
             "colorbar": {
              "outlinewidth": 0,
              "ticks": ""
             }
            },
            "type": "scattermap"
           }
          ],
          "scattermapbox": [
           {
            "marker": {
             "colorbar": {
              "outlinewidth": 0,
              "ticks": ""
             }
            },
            "type": "scattermapbox"
           }
          ],
          "scatterpolar": [
           {
            "marker": {
             "colorbar": {
              "outlinewidth": 0,
              "ticks": ""
             }
            },
            "type": "scatterpolar"
           }
          ],
          "scatterpolargl": [
           {
            "marker": {
             "colorbar": {
              "outlinewidth": 0,
              "ticks": ""
             }
            },
            "type": "scatterpolargl"
           }
          ],
          "scatterternary": [
           {
            "marker": {
             "colorbar": {
              "outlinewidth": 0,
              "ticks": ""
             }
            },
            "type": "scatterternary"
           }
          ],
          "surface": [
           {
            "colorbar": {
             "outlinewidth": 0,
             "ticks": ""
            },
            "colorscale": [
             [
              0,
              "#0d0887"
             ],
             [
              0.1111111111111111,
              "#46039f"
             ],
             [
              0.2222222222222222,
              "#7201a8"
             ],
             [
              0.3333333333333333,
              "#9c179e"
             ],
             [
              0.4444444444444444,
              "#bd3786"
             ],
             [
              0.5555555555555556,
              "#d8576b"
             ],
             [
              0.6666666666666666,
              "#ed7953"
             ],
             [
              0.7777777777777778,
              "#fb9f3a"
             ],
             [
              0.8888888888888888,
              "#fdca26"
             ],
             [
              1,
              "#f0f921"
             ]
            ],
            "type": "surface"
           }
          ],
          "table": [
           {
            "cells": {
             "fill": {
              "color": "#EBF0F8"
             },
             "line": {
              "color": "white"
             }
            },
            "header": {
             "fill": {
              "color": "#C8D4E3"
             },
             "line": {
              "color": "white"
             }
            },
            "type": "table"
           }
          ]
         },
         "layout": {
          "annotationdefaults": {
           "arrowcolor": "#2a3f5f",
           "arrowhead": 0,
           "arrowwidth": 1
          },
          "autotypenumbers": "strict",
          "coloraxis": {
           "colorbar": {
            "outlinewidth": 0,
            "ticks": ""
           }
          },
          "colorscale": {
           "diverging": [
            [
             0,
             "#8e0152"
            ],
            [
             0.1,
             "#c51b7d"
            ],
            [
             0.2,
             "#de77ae"
            ],
            [
             0.3,
             "#f1b6da"
            ],
            [
             0.4,
             "#fde0ef"
            ],
            [
             0.5,
             "#f7f7f7"
            ],
            [
             0.6,
             "#e6f5d0"
            ],
            [
             0.7,
             "#b8e186"
            ],
            [
             0.8,
             "#7fbc41"
            ],
            [
             0.9,
             "#4d9221"
            ],
            [
             1,
             "#276419"
            ]
           ],
           "sequential": [
            [
             0,
             "#0d0887"
            ],
            [
             0.1111111111111111,
             "#46039f"
            ],
            [
             0.2222222222222222,
             "#7201a8"
            ],
            [
             0.3333333333333333,
             "#9c179e"
            ],
            [
             0.4444444444444444,
             "#bd3786"
            ],
            [
             0.5555555555555556,
             "#d8576b"
            ],
            [
             0.6666666666666666,
             "#ed7953"
            ],
            [
             0.7777777777777778,
             "#fb9f3a"
            ],
            [
             0.8888888888888888,
             "#fdca26"
            ],
            [
             1,
             "#f0f921"
            ]
           ],
           "sequentialminus": [
            [
             0,
             "#0d0887"
            ],
            [
             0.1111111111111111,
             "#46039f"
            ],
            [
             0.2222222222222222,
             "#7201a8"
            ],
            [
             0.3333333333333333,
             "#9c179e"
            ],
            [
             0.4444444444444444,
             "#bd3786"
            ],
            [
             0.5555555555555556,
             "#d8576b"
            ],
            [
             0.6666666666666666,
             "#ed7953"
            ],
            [
             0.7777777777777778,
             "#fb9f3a"
            ],
            [
             0.8888888888888888,
             "#fdca26"
            ],
            [
             1,
             "#f0f921"
            ]
           ]
          },
          "colorway": [
           "#636efa",
           "#EF553B",
           "#00cc96",
           "#ab63fa",
           "#FFA15A",
           "#19d3f3",
           "#FF6692",
           "#B6E880",
           "#FF97FF",
           "#FECB52"
          ],
          "font": {
           "color": "#2a3f5f"
          },
          "geo": {
           "bgcolor": "white",
           "lakecolor": "white",
           "landcolor": "#E5ECF6",
           "showlakes": true,
           "showland": true,
           "subunitcolor": "white"
          },
          "hoverlabel": {
           "align": "left"
          },
          "hovermode": "closest",
          "mapbox": {
           "style": "light"
          },
          "paper_bgcolor": "white",
          "plot_bgcolor": "#E5ECF6",
          "polar": {
           "angularaxis": {
            "gridcolor": "white",
            "linecolor": "white",
            "ticks": ""
           },
           "bgcolor": "#E5ECF6",
           "radialaxis": {
            "gridcolor": "white",
            "linecolor": "white",
            "ticks": ""
           }
          },
          "scene": {
           "xaxis": {
            "backgroundcolor": "#E5ECF6",
            "gridcolor": "white",
            "gridwidth": 2,
            "linecolor": "white",
            "showbackground": true,
            "ticks": "",
            "zerolinecolor": "white"
           },
           "yaxis": {
            "backgroundcolor": "#E5ECF6",
            "gridcolor": "white",
            "gridwidth": 2,
            "linecolor": "white",
            "showbackground": true,
            "ticks": "",
            "zerolinecolor": "white"
           },
           "zaxis": {
            "backgroundcolor": "#E5ECF6",
            "gridcolor": "white",
            "gridwidth": 2,
            "linecolor": "white",
            "showbackground": true,
            "ticks": "",
            "zerolinecolor": "white"
           }
          },
          "shapedefaults": {
           "line": {
            "color": "#2a3f5f"
           }
          },
          "ternary": {
           "aaxis": {
            "gridcolor": "white",
            "linecolor": "white",
            "ticks": ""
           },
           "baxis": {
            "gridcolor": "white",
            "linecolor": "white",
            "ticks": ""
           },
           "bgcolor": "#E5ECF6",
           "caxis": {
            "gridcolor": "white",
            "linecolor": "white",
            "ticks": ""
           }
          },
          "title": {
           "x": 0.05
          },
          "xaxis": {
           "automargin": true,
           "gridcolor": "white",
           "linecolor": "white",
           "ticks": "",
           "title": {
            "standoff": 15
           },
           "zerolinecolor": "white",
           "zerolinewidth": 2
          },
          "yaxis": {
           "automargin": true,
           "gridcolor": "white",
           "linecolor": "white",
           "ticks": "",
           "title": {
            "standoff": 15
           },
           "zerolinecolor": "white",
           "zerolinewidth": 2
          }
         }
        },
        "title": {
         "text": "DEMANDA EFECTIVA CON PROYECTO - BRECHA A ATENDER",
         "x": 0.5
        },
        "xaxis": {
         "dtick": 1,
         "tickmode": "linear",
         "visible": true
        },
        "yaxis": {
         "showticklabels": false,
         "visible": false
        }
       }
      }
     },
     "metadata": {},
     "output_type": "display_data"
    }
   ],
   "source": [
    "import pandas as pd\n",
    "import plotly.graph_objects as go\n",
    "from plotly.colors import qualitative, sequential\n",
    "from pathlib import Path\n",
    "\n",
    "# ─── PALETAS FIJAS PARA TODA LA TESIS ───────────────────────\n",
    "PALETA_CATEGORICA = qualitative.Safe      # para categorías (etapas, niveles, regiones)\n",
    "PALETA_NUMERICA   = sequential.Viridis    # para mapas, proporciones, ratios\n",
    "\n",
    "# ─── 1. CARGA ────────────────────────────────────────────────\n",
    "df = pd.read_excel(\n",
    "    Path(r\"Z:\\02_Maestría UNI\\I_TALLER DE PROYECTOS II\\EXPOSICION\\expo2_akira\\data\\data.xlsx\"),\n",
    "    sheet_name=\"demandacp\"\n",
    ")\n",
    "\n",
    "# ─── 2. PIVOTEO Y ORDEN DE GRADOS ────────────────────────────\n",
    "df[\"grado\"] = df[\"grado\"].astype(str) + \"° grado\"\n",
    "orden = sorted(df[\"grado\"].unique())\n",
    "df_pivot = df.pivot(index=\"año\", columns=\"grado\", values=\"total\").fillna(0)\n",
    "df_pivot = df_pivot[orden]\n",
    "\n",
    "# ─── 3. CENTRADO (CAMPANA) ───────────────────────────────────\n",
    "totales = df_pivot.sum(axis=1)\n",
    "bottoms = -totales / 2\n",
    "\n",
    "# ─── 4. PALETA DE COLORES COHERENTE ──────────────────────────\n",
    "color_map = {g: PALETA_CATEGORICA[i % len(PALETA_CATEGORICA)] for i, g in enumerate(orden)}\n",
    "\n",
    "# ─── 5. CREACIÓN DEL GRÁFICO ─────────────────────────────────\n",
    "fig = go.Figure()\n",
    "\n",
    "for grado in orden:\n",
    "    valores = df_pivot[grado]\n",
    "    fig.add_bar(\n",
    "        x=df_pivot.index,\n",
    "        y=valores,\n",
    "        base=bottoms,\n",
    "        name=str(grado),\n",
    "        marker_color=color_map[grado],\n",
    "        text=valores,\n",
    "        textposition=\"inside\",\n",
    "        textfont=dict(color=\"white\", size=14)\n",
    "    )\n",
    "    bottoms += valores\n",
    "\n",
    "# ─── 6. LÍNEAS VERTICALES POR AÑO ────────────────────────────\n",
    "for año in df_pivot.index:\n",
    "    fig.add_shape(\n",
    "        type=\"line\",\n",
    "        x0=año, x1=año,\n",
    "        y0=-totales.max() / 2,\n",
    "        y1=totales.max() / 2,\n",
    "        line=dict(color=\"rgba(255,255,255,0.1)\", width=10),\n",
    "        layer=\"below\"\n",
    "    )\n",
    "\n",
    "# ─── 7. ESTILO GENERAL ───────────────────────────────────────\n",
    "fig.update_layout(\n",
    "    title=\"DEMANDA EFECTIVA CON PROYECTO - BRECHA A ATENDER\",\n",
    "    title_x=0.5,\n",
    "    barmode=\"stack\",\n",
    "    xaxis=dict(tickmode='linear', dtick=1),\n",
    "    yaxis_visible=False,\n",
    "    xaxis_visible=True,\n",
    "    yaxis_showticklabels=False,\n",
    "    plot_bgcolor=\"#0d1117\",\n",
    "    paper_bgcolor=\"#0d1117\",\n",
    "    font=dict(color=\"#c9d1d9\"),\n",
    "    autosize=True,\n",
    "    height=None,  # ← evita height fijo\n",
    "    margin=dict(t=60, r=20, l=40, b=40),\n",
    "    legend_title=\"Grado\"\n",
    ")\n",
    "\n",
    "# ─── 8. EXPORTACIÓN A HTML ───────────────────────────────────\n",
    "fig.write_html(r\"Z:\\02_Maestría UNI\\I_TALLER DE PROYECTOS II\\EXPOSICION\\expo2_akira\\docs\\plots\\demanda_efectiva_cp.html\",\n",
    "    full_html=True,\n",
    "    include_plotlyjs=\"cdn\",\n",
    "    config={\"responsive\": True}\n",
    ")\n",
    "\n",
    "fig.show()\n"
   ]
  },
  {
   "cell_type": "code",
   "execution_count": 56,
   "id": "c51001d7",
   "metadata": {},
   "outputs": [
    {
     "data": {
      "application/vnd.plotly.v1+json": {
       "config": {
        "plotlyServerURL": "https://plot.ly"
       },
       "data": [
        {
         "marker": {
          "color": "#B85555"
         },
         "name": "Después del Proyecto",
         "opacity": 0.7,
         "text": {
          "bdata": "AAAAAACARkAAAAAAAAA5QAAAAAAAAE9AAAAAAAAANEA=",
          "dtype": "f8"
         },
         "textfont": {
          "size": 14
         },
         "textposition": "inside",
         "type": "bar",
         "width": 0.8,
         "x": [
          "Secciones",
          "Aulas (B+R+M)",
          "Docentes",
          "Directivos + Administrativos"
         ],
         "y": {
          "bdata": "LRk+FA==",
          "dtype": "i1"
         }
        },
        {
         "marker": {
          "color": "#4E3ED6"
         },
         "name": "Antes del Proyecto",
         "text": {
          "bdata": "AAAAAAAANkAAAAAAAAAmQAAAAAAAgEFAAAAAAAAAFEA=",
          "dtype": "f8"
         },
         "textfont": {
          "size": 14
         },
         "textposition": "inside",
         "type": "bar",
         "width": 0.5,
         "x": [
          "Secciones",
          "Aulas (B+R+M)",
          "Docentes",
          "Directivos + Administrativos"
         ],
         "y": {
          "bdata": "FgsjBQ==",
          "dtype": "i1"
         }
        }
       ],
       "layout": {
        "autosize": true,
        "barmode": "overlay",
        "font": {
         "color": "#c9d1d9"
        },
        "legend": {
         "title": {
          "text": "Grado"
         }
        },
        "margin": {
         "b": 40,
         "l": 40,
         "r": 20,
         "t": 60
        },
        "paper_bgcolor": "#0d1117",
        "plot_bgcolor": "#0d1117",
        "template": {
         "data": {
          "bar": [
           {
            "error_x": {
             "color": "#2a3f5f"
            },
            "error_y": {
             "color": "#2a3f5f"
            },
            "marker": {
             "line": {
              "color": "#E5ECF6",
              "width": 0.5
             },
             "pattern": {
              "fillmode": "overlay",
              "size": 10,
              "solidity": 0.2
             }
            },
            "type": "bar"
           }
          ],
          "barpolar": [
           {
            "marker": {
             "line": {
              "color": "#E5ECF6",
              "width": 0.5
             },
             "pattern": {
              "fillmode": "overlay",
              "size": 10,
              "solidity": 0.2
             }
            },
            "type": "barpolar"
           }
          ],
          "carpet": [
           {
            "aaxis": {
             "endlinecolor": "#2a3f5f",
             "gridcolor": "white",
             "linecolor": "white",
             "minorgridcolor": "white",
             "startlinecolor": "#2a3f5f"
            },
            "baxis": {
             "endlinecolor": "#2a3f5f",
             "gridcolor": "white",
             "linecolor": "white",
             "minorgridcolor": "white",
             "startlinecolor": "#2a3f5f"
            },
            "type": "carpet"
           }
          ],
          "choropleth": [
           {
            "colorbar": {
             "outlinewidth": 0,
             "ticks": ""
            },
            "type": "choropleth"
           }
          ],
          "contour": [
           {
            "colorbar": {
             "outlinewidth": 0,
             "ticks": ""
            },
            "colorscale": [
             [
              0,
              "#0d0887"
             ],
             [
              0.1111111111111111,
              "#46039f"
             ],
             [
              0.2222222222222222,
              "#7201a8"
             ],
             [
              0.3333333333333333,
              "#9c179e"
             ],
             [
              0.4444444444444444,
              "#bd3786"
             ],
             [
              0.5555555555555556,
              "#d8576b"
             ],
             [
              0.6666666666666666,
              "#ed7953"
             ],
             [
              0.7777777777777778,
              "#fb9f3a"
             ],
             [
              0.8888888888888888,
              "#fdca26"
             ],
             [
              1,
              "#f0f921"
             ]
            ],
            "type": "contour"
           }
          ],
          "contourcarpet": [
           {
            "colorbar": {
             "outlinewidth": 0,
             "ticks": ""
            },
            "type": "contourcarpet"
           }
          ],
          "heatmap": [
           {
            "colorbar": {
             "outlinewidth": 0,
             "ticks": ""
            },
            "colorscale": [
             [
              0,
              "#0d0887"
             ],
             [
              0.1111111111111111,
              "#46039f"
             ],
             [
              0.2222222222222222,
              "#7201a8"
             ],
             [
              0.3333333333333333,
              "#9c179e"
             ],
             [
              0.4444444444444444,
              "#bd3786"
             ],
             [
              0.5555555555555556,
              "#d8576b"
             ],
             [
              0.6666666666666666,
              "#ed7953"
             ],
             [
              0.7777777777777778,
              "#fb9f3a"
             ],
             [
              0.8888888888888888,
              "#fdca26"
             ],
             [
              1,
              "#f0f921"
             ]
            ],
            "type": "heatmap"
           }
          ],
          "histogram": [
           {
            "marker": {
             "pattern": {
              "fillmode": "overlay",
              "size": 10,
              "solidity": 0.2
             }
            },
            "type": "histogram"
           }
          ],
          "histogram2d": [
           {
            "colorbar": {
             "outlinewidth": 0,
             "ticks": ""
            },
            "colorscale": [
             [
              0,
              "#0d0887"
             ],
             [
              0.1111111111111111,
              "#46039f"
             ],
             [
              0.2222222222222222,
              "#7201a8"
             ],
             [
              0.3333333333333333,
              "#9c179e"
             ],
             [
              0.4444444444444444,
              "#bd3786"
             ],
             [
              0.5555555555555556,
              "#d8576b"
             ],
             [
              0.6666666666666666,
              "#ed7953"
             ],
             [
              0.7777777777777778,
              "#fb9f3a"
             ],
             [
              0.8888888888888888,
              "#fdca26"
             ],
             [
              1,
              "#f0f921"
             ]
            ],
            "type": "histogram2d"
           }
          ],
          "histogram2dcontour": [
           {
            "colorbar": {
             "outlinewidth": 0,
             "ticks": ""
            },
            "colorscale": [
             [
              0,
              "#0d0887"
             ],
             [
              0.1111111111111111,
              "#46039f"
             ],
             [
              0.2222222222222222,
              "#7201a8"
             ],
             [
              0.3333333333333333,
              "#9c179e"
             ],
             [
              0.4444444444444444,
              "#bd3786"
             ],
             [
              0.5555555555555556,
              "#d8576b"
             ],
             [
              0.6666666666666666,
              "#ed7953"
             ],
             [
              0.7777777777777778,
              "#fb9f3a"
             ],
             [
              0.8888888888888888,
              "#fdca26"
             ],
             [
              1,
              "#f0f921"
             ]
            ],
            "type": "histogram2dcontour"
           }
          ],
          "mesh3d": [
           {
            "colorbar": {
             "outlinewidth": 0,
             "ticks": ""
            },
            "type": "mesh3d"
           }
          ],
          "parcoords": [
           {
            "line": {
             "colorbar": {
              "outlinewidth": 0,
              "ticks": ""
             }
            },
            "type": "parcoords"
           }
          ],
          "pie": [
           {
            "automargin": true,
            "type": "pie"
           }
          ],
          "scatter": [
           {
            "fillpattern": {
             "fillmode": "overlay",
             "size": 10,
             "solidity": 0.2
            },
            "type": "scatter"
           }
          ],
          "scatter3d": [
           {
            "line": {
             "colorbar": {
              "outlinewidth": 0,
              "ticks": ""
             }
            },
            "marker": {
             "colorbar": {
              "outlinewidth": 0,
              "ticks": ""
             }
            },
            "type": "scatter3d"
           }
          ],
          "scattercarpet": [
           {
            "marker": {
             "colorbar": {
              "outlinewidth": 0,
              "ticks": ""
             }
            },
            "type": "scattercarpet"
           }
          ],
          "scattergeo": [
           {
            "marker": {
             "colorbar": {
              "outlinewidth": 0,
              "ticks": ""
             }
            },
            "type": "scattergeo"
           }
          ],
          "scattergl": [
           {
            "marker": {
             "colorbar": {
              "outlinewidth": 0,
              "ticks": ""
             }
            },
            "type": "scattergl"
           }
          ],
          "scattermap": [
           {
            "marker": {
             "colorbar": {
              "outlinewidth": 0,
              "ticks": ""
             }
            },
            "type": "scattermap"
           }
          ],
          "scattermapbox": [
           {
            "marker": {
             "colorbar": {
              "outlinewidth": 0,
              "ticks": ""
             }
            },
            "type": "scattermapbox"
           }
          ],
          "scatterpolar": [
           {
            "marker": {
             "colorbar": {
              "outlinewidth": 0,
              "ticks": ""
             }
            },
            "type": "scatterpolar"
           }
          ],
          "scatterpolargl": [
           {
            "marker": {
             "colorbar": {
              "outlinewidth": 0,
              "ticks": ""
             }
            },
            "type": "scatterpolargl"
           }
          ],
          "scatterternary": [
           {
            "marker": {
             "colorbar": {
              "outlinewidth": 0,
              "ticks": ""
             }
            },
            "type": "scatterternary"
           }
          ],
          "surface": [
           {
            "colorbar": {
             "outlinewidth": 0,
             "ticks": ""
            },
            "colorscale": [
             [
              0,
              "#0d0887"
             ],
             [
              0.1111111111111111,
              "#46039f"
             ],
             [
              0.2222222222222222,
              "#7201a8"
             ],
             [
              0.3333333333333333,
              "#9c179e"
             ],
             [
              0.4444444444444444,
              "#bd3786"
             ],
             [
              0.5555555555555556,
              "#d8576b"
             ],
             [
              0.6666666666666666,
              "#ed7953"
             ],
             [
              0.7777777777777778,
              "#fb9f3a"
             ],
             [
              0.8888888888888888,
              "#fdca26"
             ],
             [
              1,
              "#f0f921"
             ]
            ],
            "type": "surface"
           }
          ],
          "table": [
           {
            "cells": {
             "fill": {
              "color": "#EBF0F8"
             },
             "line": {
              "color": "white"
             }
            },
            "header": {
             "fill": {
              "color": "#C8D4E3"
             },
             "line": {
              "color": "white"
             }
            },
            "type": "table"
           }
          ]
         },
         "layout": {
          "annotationdefaults": {
           "arrowcolor": "#2a3f5f",
           "arrowhead": 0,
           "arrowwidth": 1
          },
          "autotypenumbers": "strict",
          "coloraxis": {
           "colorbar": {
            "outlinewidth": 0,
            "ticks": ""
           }
          },
          "colorscale": {
           "diverging": [
            [
             0,
             "#8e0152"
            ],
            [
             0.1,
             "#c51b7d"
            ],
            [
             0.2,
             "#de77ae"
            ],
            [
             0.3,
             "#f1b6da"
            ],
            [
             0.4,
             "#fde0ef"
            ],
            [
             0.5,
             "#f7f7f7"
            ],
            [
             0.6,
             "#e6f5d0"
            ],
            [
             0.7,
             "#b8e186"
            ],
            [
             0.8,
             "#7fbc41"
            ],
            [
             0.9,
             "#4d9221"
            ],
            [
             1,
             "#276419"
            ]
           ],
           "sequential": [
            [
             0,
             "#0d0887"
            ],
            [
             0.1111111111111111,
             "#46039f"
            ],
            [
             0.2222222222222222,
             "#7201a8"
            ],
            [
             0.3333333333333333,
             "#9c179e"
            ],
            [
             0.4444444444444444,
             "#bd3786"
            ],
            [
             0.5555555555555556,
             "#d8576b"
            ],
            [
             0.6666666666666666,
             "#ed7953"
            ],
            [
             0.7777777777777778,
             "#fb9f3a"
            ],
            [
             0.8888888888888888,
             "#fdca26"
            ],
            [
             1,
             "#f0f921"
            ]
           ],
           "sequentialminus": [
            [
             0,
             "#0d0887"
            ],
            [
             0.1111111111111111,
             "#46039f"
            ],
            [
             0.2222222222222222,
             "#7201a8"
            ],
            [
             0.3333333333333333,
             "#9c179e"
            ],
            [
             0.4444444444444444,
             "#bd3786"
            ],
            [
             0.5555555555555556,
             "#d8576b"
            ],
            [
             0.6666666666666666,
             "#ed7953"
            ],
            [
             0.7777777777777778,
             "#fb9f3a"
            ],
            [
             0.8888888888888888,
             "#fdca26"
            ],
            [
             1,
             "#f0f921"
            ]
           ]
          },
          "colorway": [
           "#636efa",
           "#EF553B",
           "#00cc96",
           "#ab63fa",
           "#FFA15A",
           "#19d3f3",
           "#FF6692",
           "#B6E880",
           "#FF97FF",
           "#FECB52"
          ],
          "font": {
           "color": "#2a3f5f"
          },
          "geo": {
           "bgcolor": "white",
           "lakecolor": "white",
           "landcolor": "#E5ECF6",
           "showlakes": true,
           "showland": true,
           "subunitcolor": "white"
          },
          "hoverlabel": {
           "align": "left"
          },
          "hovermode": "closest",
          "mapbox": {
           "style": "light"
          },
          "paper_bgcolor": "white",
          "plot_bgcolor": "#E5ECF6",
          "polar": {
           "angularaxis": {
            "gridcolor": "white",
            "linecolor": "white",
            "ticks": ""
           },
           "bgcolor": "#E5ECF6",
           "radialaxis": {
            "gridcolor": "white",
            "linecolor": "white",
            "ticks": ""
           }
          },
          "scene": {
           "xaxis": {
            "backgroundcolor": "#E5ECF6",
            "gridcolor": "white",
            "gridwidth": 2,
            "linecolor": "white",
            "showbackground": true,
            "ticks": "",
            "zerolinecolor": "white"
           },
           "yaxis": {
            "backgroundcolor": "#E5ECF6",
            "gridcolor": "white",
            "gridwidth": 2,
            "linecolor": "white",
            "showbackground": true,
            "ticks": "",
            "zerolinecolor": "white"
           },
           "zaxis": {
            "backgroundcolor": "#E5ECF6",
            "gridcolor": "white",
            "gridwidth": 2,
            "linecolor": "white",
            "showbackground": true,
            "ticks": "",
            "zerolinecolor": "white"
           }
          },
          "shapedefaults": {
           "line": {
            "color": "#2a3f5f"
           }
          },
          "ternary": {
           "aaxis": {
            "gridcolor": "white",
            "linecolor": "white",
            "ticks": ""
           },
           "baxis": {
            "gridcolor": "white",
            "linecolor": "white",
            "ticks": ""
           },
           "bgcolor": "#E5ECF6",
           "caxis": {
            "gridcolor": "white",
            "linecolor": "white",
            "ticks": ""
           }
          },
          "title": {
           "x": 0.05
          },
          "xaxis": {
           "automargin": true,
           "gridcolor": "white",
           "linecolor": "white",
           "ticks": "",
           "title": {
            "standoff": 15
           },
           "zerolinecolor": "white",
           "zerolinewidth": 2
          },
          "yaxis": {
           "automargin": true,
           "gridcolor": "white",
           "linecolor": "white",
           "ticks": "",
           "title": {
            "standoff": 15
           },
           "zerolinecolor": "white",
           "zerolinewidth": 2
          }
         }
        },
        "title": {
         "text": "COMPARATIVO: FACTORES PRODUCTIVOS ANTES Y DESPUÉS DEL PROYECTO",
         "x": 0.5
        },
        "xaxis": {
         "title": {
          "text": "Factores"
         },
         "visible": true
        },
        "yaxis": {
         "showticklabels": false,
         "title": {
          "text": "Cantidad"
         },
         "visible": false
        }
       }
      }
     },
     "metadata": {},
     "output_type": "display_data"
    }
   ],
   "source": [
    "import plotly.graph_objects as go\n",
    "import pandas as pd\n",
    "\n",
    "# Datos de ejemplo\n",
    "df = pd.DataFrame({\n",
    "    'Factores': ['Secciones', 'Aulas (B+R+M)', 'Docentes', 'Directivos + Administrativos'],\n",
    "    'Antes del Proyecto': [22, 11, 35, 5],\n",
    "    'Después del Proyecto': [45, 25, 62, 20]\n",
    "})\n",
    "\n",
    "# Crear figura\n",
    "fig = go.Figure()\n",
    "\n",
    "# Agregar barra \"Antes del Proyecto\"\n",
    "# Agregar barra \"Después del Proyecto\"\n",
    "fig.add_bar(\n",
    "    x=df['Factores'],\n",
    "    y=df['Después del Proyecto'],\n",
    "    name='Después del Proyecto',\n",
    "    marker_color=\"#B85555\",\n",
    "    text=df['Después del Proyecto'],\n",
    "    textposition='inside',\n",
    "    opacity=0.7,\n",
    "    width=0.8\n",
    ")\n",
    "\n",
    "fig.add_bar(\n",
    "    x=df['Factores'],\n",
    "    y=df['Antes del Proyecto'],\n",
    "    name='Antes del Proyecto',\n",
    "    marker_color=\"#4E3ED6\",\n",
    "    text=df['Antes del Proyecto'],\n",
    "    textposition='inside',\n",
    "    width=0.5\n",
    ")\n",
    "\n",
    "\n",
    "\n",
    "# Layout\n",
    "fig.update_layout(\n",
    "    barmode='overlay',\n",
    "    title={\n",
    "        'text': 'COMPARATIVO: FACTORES PRODUCTIVOS ANTES Y DESPUÉS DEL PROYECTO',\n",
    "        'x': 0.5\n",
    "    },\n",
    "    xaxis_title='Factores',\n",
    "    yaxis_title='Cantidad',\n",
    "    legend_title_text='',\n",
    "    yaxis_visible=False,\n",
    "    xaxis_visible=True,\n",
    "    yaxis_showticklabels=False,\n",
    "    plot_bgcolor=\"#0d1117\",\n",
    "    paper_bgcolor=\"#0d1117\",\n",
    "    font=dict(color=\"#c9d1d9\"),\n",
    "    autosize=True,\n",
    "    height=None,  # ← evita height fijo\n",
    "    margin=dict(t=60, r=20, l=40, b=40),\n",
    "    legend_title=\"Grado\"\n",
    ")\n",
    "\n",
    "# Estilo de texto\n",
    "fig.update_traces(textfont_size=14)\n",
    "fig.write_html(r\"Z:\\02_Maestría UNI\\I_TALLER DE PROYECTOS II\\EXPOSICION\\expo2_akira\\docs\\plots\\antes_despues.html\", full_html=True,\n",
    "               include_plotlyjs=\"cdn\",\n",
    "               config={\"responsive\": True})\n",
    "fig.show()\n"
   ]
  }
 ],
 "metadata": {
  "kernelspec": {
   "display_name": "Python 3",
   "language": "python",
   "name": "python3"
  },
  "language_info": {
   "codemirror_mode": {
    "name": "ipython",
    "version": 3
   },
   "file_extension": ".py",
   "mimetype": "text/x-python",
   "name": "python",
   "nbconvert_exporter": "python",
   "pygments_lexer": "ipython3",
   "version": "3.11.9"
  }
 },
 "nbformat": 4,
 "nbformat_minor": 5
}
