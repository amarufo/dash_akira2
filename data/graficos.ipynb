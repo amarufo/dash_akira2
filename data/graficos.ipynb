{
 "cells": [
  {
   "cell_type": "code",
   "execution_count": 1,
   "id": "01190304",
   "metadata": {},
   "outputs": [
    {
     "data": {
      "text/plain": [
       "Index(['Macroetapa', 'Etapa', 'Inicio', 'Fin', 'dias', 'Fin_recortado'], dtype='object')"
      ]
     },
     "execution_count": 1,
     "metadata": {},
     "output_type": "execute_result"
    }
   ],
   "source": [
    "from pathlib import Path\n",
    "import pandas as pd\n",
    "from dateutil.relativedelta import relativedelta\n",
    "import plotly.express as px\n",
    "\n",
    "ruta = Path(r\"Z:\\02_Maestría UNI\\I_TALLER DE PROYECTOS II\\EXPOSICION\\expo2_akira\\data\\data.xlsx\")\n",
    "df = pd.read_excel(\n",
    "    ruta, sheet_name=\"horizonte\",\n",
    "    parse_dates=[\"Inicio\", \"Fin\"],\n",
    "    engine=\"openpyxl\"\n",
    ").rename(columns=str.strip)\n",
    "\n",
    "fecha_corte_visual = pd.to_datetime(\"2027-12-31\")\n",
    "\n",
    "df[\"Fin_recortado\"] = df.apply(\n",
    "    lambda r: fecha_corte_visual if (r[\"Fin\"] > fecha_corte_visual and (r[\"Fin\"] - r[\"Inicio\"]).days > 730)\n",
    "    else r[\"Fin\"], axis=1\n",
    ")\n",
    "\n",
    "df.columns"
   ]
  },
  {
   "cell_type": "code",
   "execution_count": 4,
   "id": "54bf8a93",
   "metadata": {},
   "outputs": [
    {
     "data": {
      "application/vnd.plotly.v1+json": {
       "config": {
        "plotlyServerURL": "https://plot.ly"
       },
       "data": [
        {
         "base": [
          "2025-03-03T00:00:00.000000000"
         ],
         "customdata": [
          [
           "Fase de Preinversión",
           "0 a 2 m 21 d"
          ]
         ],
         "hovertemplate": "Etapa=%{y}<br>Inicio=%{base|%d %b %Y}<br>Fin=%{x|%d %b %Y}<br>Macroetapa=%{customdata[0]}<br>Duracion_str=%{customdata[1]}<extra></extra>",
         "legendgroup": "Actos preparatorios",
         "marker": {
          "color": "#AA0DFE",
          "pattern": {
           "shape": ""
          }
         },
         "name": "Actos preparatorios",
         "orientation": "h",
         "showlegend": true,
         "textposition": "auto",
         "type": "bar",
         "x": [
          7084800000
         ],
         "xaxis": "x",
         "y": [
          "Actos preparatorios"
         ],
         "yaxis": "y"
        },
        {
         "base": [
          "2025-06-08T00:00:00.000000000"
         ],
         "customdata": [
          [
           "Fase de Estudios Definitivos",
           "0 a 1 m 30 d"
          ]
         ],
         "hovertemplate": "Etapa=%{y}<br>Inicio=%{base|%d %b %Y}<br>Fin=%{x|%d %b %Y}<br>Macroetapa=%{customdata[0]}<br>Duracion_str=%{customdata[1]}<extra></extra>",
         "legendgroup": "Procedimiento de selección",
         "marker": {
          "color": "#3283FE",
          "pattern": {
           "shape": ""
          }
         },
         "name": "Procedimiento de selección",
         "orientation": "h",
         "showlegend": true,
         "textposition": "auto",
         "type": "bar",
         "x": [
          5184000000
         ],
         "xaxis": "x",
         "y": [
          "Procedimiento de selección"
         ],
         "yaxis": "y"
        },
        {
         "base": [
          "2025-08-08T00:00:00.000000000"
         ],
         "customdata": [
          [
           "Fase de Estudios Definitivos",
           "0 a 0 m 30 d"
          ]
         ],
         "hovertemplate": "Etapa=%{y}<br>Inicio=%{base|%d %b %Y}<br>Fin=%{x|%d %b %Y}<br>Macroetapa=%{customdata[0]}<br>Duracion_str=%{customdata[1]}<extra></extra>",
         "legendgroup": "Elaboración de los Expediente Técnico (Contingencia)",
         "marker": {
          "color": "#85660D",
          "pattern": {
           "shape": ""
          }
         },
         "name": "Elaboración de los Expediente Técnico (Contingencia)",
         "orientation": "h",
         "showlegend": true,
         "textposition": "auto",
         "type": "bar",
         "x": [
          2592000000
         ],
         "xaxis": "x",
         "y": [
          "Elaboración de los Expediente Técnico (Contingencia)"
         ],
         "yaxis": "y"
        },
        {
         "base": [
          "2025-08-08T00:00:00.000000000"
         ],
         "customdata": [
          [
           "Fase de Estudios Definitivos",
           "0 a 3 m 28 d"
          ]
         ],
         "hovertemplate": "Etapa=%{y}<br>Inicio=%{base|%d %b %Y}<br>Fin=%{x|%d %b %Y}<br>Macroetapa=%{customdata[0]}<br>Duracion_str=%{customdata[1]}<extra></extra>",
         "legendgroup": "Elaboración de los Expediente Técnico (Obra)",
         "marker": {
          "color": "#782AB6",
          "pattern": {
           "shape": ""
          }
         },
         "name": "Elaboración de los Expediente Técnico (Obra)",
         "orientation": "h",
         "showlegend": true,
         "textposition": "auto",
         "type": "bar",
         "x": [
          10368000000
         ],
         "xaxis": "x",
         "y": [
          "Elaboración de los Expediente Técnico (Obra)"
         ],
         "yaxis": "y"
        },
        {
         "base": [
          "2025-11-06T00:00:00.000000000"
         ],
         "customdata": [
          [
           "Fase de Estudios Definitivos",
           "0 a 1 m 0 d"
          ]
         ],
         "hovertemplate": "Etapa=%{y}<br>Inicio=%{base|%d %b %Y}<br>Fin=%{x|%d %b %Y}<br>Macroetapa=%{customdata[0]}<br>Duracion_str=%{customdata[1]}<extra></extra>",
         "legendgroup": "Elaboración de las Especificaciones Técnicas",
         "marker": {
          "color": "#565656",
          "pattern": {
           "shape": ""
          }
         },
         "name": "Elaboración de las Especificaciones Técnicas",
         "orientation": "h",
         "showlegend": true,
         "textposition": "auto",
         "type": "bar",
         "x": [
          2592000000
         ],
         "xaxis": "x",
         "y": [
          "Elaboración de las Especificaciones Técnicas"
         ],
         "yaxis": "y"
        },
        {
         "base": [
          "2025-11-06T00:00:00.000000000"
         ],
         "customdata": [
          [
           "Fase de Estudios Definitivos",
           "0 a 1 m 0 d"
          ]
         ],
         "hovertemplate": "Etapa=%{y}<br>Inicio=%{base|%d %b %Y}<br>Fin=%{x|%d %b %Y}<br>Macroetapa=%{customdata[0]}<br>Duracion_str=%{customdata[1]}<extra></extra>",
         "legendgroup": "Elaboración de los Términos de Referencia",
         "marker": {
          "color": "#1C8356",
          "pattern": {
           "shape": ""
          }
         },
         "name": "Elaboración de los Términos de Referencia",
         "orientation": "h",
         "showlegend": true,
         "textposition": "auto",
         "type": "bar",
         "x": [
          2592000000
         ],
         "xaxis": "x",
         "y": [
          "Elaboración de los Términos de Referencia"
         ],
         "yaxis": "y"
        },
        {
         "base": [
          "2025-12-21T00:00:00.000000000"
         ],
         "customdata": [
          [
           "Fase de Estudios Definitivos",
           "0 a 1 m 14 d"
          ]
         ],
         "hovertemplate": "Etapa=%{y}<br>Inicio=%{base|%d %b %Y}<br>Fin=%{x|%d %b %Y}<br>Macroetapa=%{customdata[0]}<br>Duracion_str=%{customdata[1]}<extra></extra>",
         "legendgroup": "Procedimientos de Aprobación de los Est. Def.",
         "marker": {
          "color": "#16FF32",
          "pattern": {
           "shape": ""
          }
         },
         "name": "Procedimientos de Aprobación de los Est. Def.",
         "orientation": "h",
         "showlegend": true,
         "textposition": "auto",
         "type": "bar",
         "x": [
          3888000000
         ],
         "xaxis": "x",
         "y": [
          "Procedimientos de Aprobación de los Est. Def."
         ],
         "yaxis": "y"
        },
        {
         "base": [
          "2026-03-16T00:00:00.000000000"
         ],
         "customdata": [
          [
           "Fase de Ejecución Física",
           "1 a 7 m 29 d"
          ]
         ],
         "hovertemplate": "Etapa=%{y}<br>Inicio=%{base|%d %b %Y}<br>Fin=%{x|%d %b %Y}<br>Macroetapa=%{customdata[0]}<br>Duracion_str=%{customdata[1]}<extra></extra>",
         "legendgroup": "Plan de contingencia",
         "marker": {
          "color": "#F7E1A0",
          "pattern": {
           "shape": ""
          }
         },
         "name": "Plan de contingencia",
         "orientation": "h",
         "showlegend": true,
         "textposition": "auto",
         "type": "bar",
         "x": [
          52531200000
         ],
         "xaxis": "x",
         "y": [
          "Plan de contingencia"
         ],
         "yaxis": "y"
        },
        {
         "base": [
          "2026-03-16T00:00:00.000000000"
         ],
         "customdata": [
          [
           "Fase de Ejecución Física",
           "1 a 5 m 29 d"
          ]
         ],
         "hovertemplate": "Etapa=%{y}<br>Inicio=%{base|%d %b %Y}<br>Fin=%{x|%d %b %Y}<br>Macroetapa=%{customdata[0]}<br>Duracion_str=%{customdata[1]}<extra></extra>",
         "legendgroup": "Ejecución del Componente 1 (Obra)",
         "marker": {
          "color": "#E2E2E2",
          "pattern": {
           "shape": ""
          }
         },
         "name": "Ejecución del Componente 1 (Obra)",
         "orientation": "h",
         "showlegend": true,
         "textposition": "auto",
         "type": "bar",
         "x": [
          47260800000
         ],
         "xaxis": "x",
         "y": [
          "Ejecución del Componente 1 (Obra)"
         ],
         "yaxis": "y"
        },
        {
         "base": [
          "2027-06-16T00:00:00.000000000"
         ],
         "customdata": [
          [
           "Fase de Ejecución Física",
           "0 a 2 m 29 d"
          ]
         ],
         "hovertemplate": "Etapa=%{y}<br>Inicio=%{base|%d %b %Y}<br>Fin=%{x|%d %b %Y}<br>Macroetapa=%{customdata[0]}<br>Duracion_str=%{customdata[1]}<extra></extra>",
         "legendgroup": "Ejecución del Componente 2 y 3 (E&M)",
         "marker": {
          "color": "#1CBE4F",
          "pattern": {
           "shape": ""
          }
         },
         "name": "Ejecución del Componente 2 y 3 (E&M)",
         "orientation": "h",
         "showlegend": true,
         "textposition": "auto",
         "type": "bar",
         "x": [
          7776000000
         ],
         "xaxis": "x",
         "y": [
          "Ejecución del Componente 2 y 3 (E&M)"
         ],
         "yaxis": "y"
        },
        {
         "base": [
          "2027-06-16T00:00:00.000000000"
         ],
         "customdata": [
          [
           "Fase de Ejecución Física",
           "0 a 2 m 29 d"
          ]
         ],
         "hovertemplate": "Etapa=%{y}<br>Inicio=%{base|%d %b %Y}<br>Fin=%{x|%d %b %Y}<br>Macroetapa=%{customdata[0]}<br>Duracion_str=%{customdata[1]}<extra></extra>",
         "legendgroup": "Ejecución del Componente 4 (Intangibles)",
         "marker": {
          "color": "#C4451C",
          "pattern": {
           "shape": ""
          }
         },
         "name": "Ejecución del Componente 4 (Intangibles)",
         "orientation": "h",
         "showlegend": true,
         "textposition": "auto",
         "type": "bar",
         "x": [
          7776000000
         ],
         "xaxis": "x",
         "y": [
          "Ejecución del Componente 4 (Intangibles)"
         ],
         "yaxis": "y"
        },
        {
         "base": [
          "2027-09-15T00:00:00.000000000"
         ],
         "customdata": [
          [
           "Fase de Ejecución Física",
           "0 a 1 m 30 d"
          ]
         ],
         "hovertemplate": "Etapa=%{y}<br>Inicio=%{base|%d %b %Y}<br>Fin=%{x|%d %b %Y}<br>Macroetapa=%{customdata[0]}<br>Duracion_str=%{customdata[1]}<extra></extra>",
         "legendgroup": "Liquidación y entrega del Proyecto",
         "marker": {
          "color": "#DEA0FD",
          "pattern": {
           "shape": ""
          }
         },
         "name": "Liquidación y entrega del Proyecto",
         "orientation": "h",
         "showlegend": true,
         "textposition": "auto",
         "type": "bar",
         "x": [
          5184000000
         ],
         "xaxis": "x",
         "y": [
          "Liquidación y entrega del Proyecto"
         ],
         "yaxis": "y"
        },
        {
         "base": [
          "2026-03-16T00:00:00.000000000"
         ],
         "customdata": [
          [
           "Fase de Ejecución Física",
           "1 a 7 m 29 d"
          ]
         ],
         "hovertemplate": "Etapa=%{y}<br>Inicio=%{base|%d %b %Y}<br>Fin=%{x|%d %b %Y}<br>Macroetapa=%{customdata[0]}<br>Duracion_str=%{customdata[1]}<extra></extra>",
         "legendgroup": "Supervisión",
         "marker": {
          "color": "#FE00FA",
          "pattern": {
           "shape": ""
          }
         },
         "name": "Supervisión",
         "orientation": "h",
         "showlegend": true,
         "textposition": "auto",
         "type": "bar",
         "x": [
          52531200000
         ],
         "xaxis": "x",
         "y": [
          "Supervisión"
         ],
         "yaxis": "y"
        },
        {
         "base": [
          "2026-03-16T00:00:00.000000000"
         ],
         "customdata": [
          [
           "Fase de Ejecución Física",
           "1 a 7 m 29 d"
          ]
         ],
         "hovertemplate": "Etapa=%{y}<br>Inicio=%{base|%d %b %Y}<br>Fin=%{x|%d %b %Y}<br>Macroetapa=%{customdata[0]}<br>Duracion_str=%{customdata[1]}<extra></extra>",
         "legendgroup": "Gestión del Proyecto",
         "marker": {
          "color": "#325A9B",
          "pattern": {
           "shape": ""
          }
         },
         "name": "Gestión del Proyecto",
         "orientation": "h",
         "showlegend": true,
         "textposition": "auto",
         "type": "bar",
         "x": [
          52531200000
         ],
         "xaxis": "x",
         "y": [
          "Gestión del Proyecto"
         ],
         "yaxis": "y"
        },
        {
         "base": [
          "2027-11-15T00:00:00.000000000"
         ],
         "customdata": [
          [
           "Fase de Operación y Mantenimiento",
           "10 a 0 m 0 d"
          ]
         ],
         "hovertemplate": "Etapa=%{y}<br>Inicio=%{base|%d %b %Y}<br>Fin=%{x|%d %b %Y}<br>Macroetapa=%{customdata[0]}<br>Duracion_str=%{customdata[1]}<extra></extra>",
         "legendgroup": "Funcionamiento",
         "marker": {
          "color": "#FEAF16",
          "pattern": {
           "shape": ""
          }
         },
         "name": "Funcionamiento",
         "orientation": "h",
         "showlegend": true,
         "textposition": "auto",
         "type": "bar",
         "x": [
          315619200000
         ],
         "xaxis": "x",
         "y": [
          "Funcionamiento"
         ],
         "yaxis": "y"
        }
       ],
       "layout": {
        "autosize": true,
        "barmode": "overlay",
        "font": {
         "color": "#d0d0d0"
        },
        "legend": {
         "title": {
          "text": "Etapa"
         },
         "tracegroupgap": 0
        },
        "margin": {
         "b": 40,
         "l": 40,
         "r": 20,
         "t": 60
        },
        "paper_bgcolor": "#0d1117",
        "plot_bgcolor": "#0d1117",
        "shapes": [
         {
          "fillcolor": "rgba(255,255,255,0.04)",
          "layer": "below",
          "line": {
           "width": 0
          },
          "type": "rect",
          "x0": "2025-03-03T00:00:00",
          "x1": "2037-11-15T00:00:00",
          "y0": -0.5,
          "y1": 0.5
         },
         {
          "fillcolor": "rgba(255,255,255,0.04)",
          "layer": "below",
          "line": {
           "width": 0
          },
          "type": "rect",
          "x0": "2025-03-03T00:00:00",
          "x1": "2037-11-15T00:00:00",
          "y0": 5.5,
          "y1": 1.5
         },
         {
          "fillcolor": "rgba(255,255,255,0.04)",
          "layer": "below",
          "line": {
           "width": 0
          },
          "type": "rect",
          "x0": "2025-03-03T00:00:00",
          "x1": "2037-11-15T00:00:00",
          "y0": 12.5,
          "y1": 7.5
         },
         {
          "fillcolor": "rgba(255,255,255,0.04)",
          "layer": "below",
          "line": {
           "width": 0
          },
          "type": "rect",
          "x0": "2025-03-03T00:00:00",
          "x1": "2037-11-15T00:00:00",
          "y0": 13.5,
          "y1": 14.5
         }
        ],
        "template": {
         "data": {
          "bar": [
           {
            "error_x": {
             "color": "#2a3f5f"
            },
            "error_y": {
             "color": "#2a3f5f"
            },
            "marker": {
             "line": {
              "color": "#E5ECF6",
              "width": 0.5
             },
             "pattern": {
              "fillmode": "overlay",
              "size": 10,
              "solidity": 0.2
             }
            },
            "type": "bar"
           }
          ],
          "barpolar": [
           {
            "marker": {
             "line": {
              "color": "#E5ECF6",
              "width": 0.5
             },
             "pattern": {
              "fillmode": "overlay",
              "size": 10,
              "solidity": 0.2
             }
            },
            "type": "barpolar"
           }
          ],
          "carpet": [
           {
            "aaxis": {
             "endlinecolor": "#2a3f5f",
             "gridcolor": "white",
             "linecolor": "white",
             "minorgridcolor": "white",
             "startlinecolor": "#2a3f5f"
            },
            "baxis": {
             "endlinecolor": "#2a3f5f",
             "gridcolor": "white",
             "linecolor": "white",
             "minorgridcolor": "white",
             "startlinecolor": "#2a3f5f"
            },
            "type": "carpet"
           }
          ],
          "choropleth": [
           {
            "colorbar": {
             "outlinewidth": 0,
             "ticks": ""
            },
            "type": "choropleth"
           }
          ],
          "contour": [
           {
            "colorbar": {
             "outlinewidth": 0,
             "ticks": ""
            },
            "colorscale": [
             [
              0,
              "#0d0887"
             ],
             [
              0.1111111111111111,
              "#46039f"
             ],
             [
              0.2222222222222222,
              "#7201a8"
             ],
             [
              0.3333333333333333,
              "#9c179e"
             ],
             [
              0.4444444444444444,
              "#bd3786"
             ],
             [
              0.5555555555555556,
              "#d8576b"
             ],
             [
              0.6666666666666666,
              "#ed7953"
             ],
             [
              0.7777777777777778,
              "#fb9f3a"
             ],
             [
              0.8888888888888888,
              "#fdca26"
             ],
             [
              1,
              "#f0f921"
             ]
            ],
            "type": "contour"
           }
          ],
          "contourcarpet": [
           {
            "colorbar": {
             "outlinewidth": 0,
             "ticks": ""
            },
            "type": "contourcarpet"
           }
          ],
          "heatmap": [
           {
            "colorbar": {
             "outlinewidth": 0,
             "ticks": ""
            },
            "colorscale": [
             [
              0,
              "#0d0887"
             ],
             [
              0.1111111111111111,
              "#46039f"
             ],
             [
              0.2222222222222222,
              "#7201a8"
             ],
             [
              0.3333333333333333,
              "#9c179e"
             ],
             [
              0.4444444444444444,
              "#bd3786"
             ],
             [
              0.5555555555555556,
              "#d8576b"
             ],
             [
              0.6666666666666666,
              "#ed7953"
             ],
             [
              0.7777777777777778,
              "#fb9f3a"
             ],
             [
              0.8888888888888888,
              "#fdca26"
             ],
             [
              1,
              "#f0f921"
             ]
            ],
            "type": "heatmap"
           }
          ],
          "histogram": [
           {
            "marker": {
             "pattern": {
              "fillmode": "overlay",
              "size": 10,
              "solidity": 0.2
             }
            },
            "type": "histogram"
           }
          ],
          "histogram2d": [
           {
            "colorbar": {
             "outlinewidth": 0,
             "ticks": ""
            },
            "colorscale": [
             [
              0,
              "#0d0887"
             ],
             [
              0.1111111111111111,
              "#46039f"
             ],
             [
              0.2222222222222222,
              "#7201a8"
             ],
             [
              0.3333333333333333,
              "#9c179e"
             ],
             [
              0.4444444444444444,
              "#bd3786"
             ],
             [
              0.5555555555555556,
              "#d8576b"
             ],
             [
              0.6666666666666666,
              "#ed7953"
             ],
             [
              0.7777777777777778,
              "#fb9f3a"
             ],
             [
              0.8888888888888888,
              "#fdca26"
             ],
             [
              1,
              "#f0f921"
             ]
            ],
            "type": "histogram2d"
           }
          ],
          "histogram2dcontour": [
           {
            "colorbar": {
             "outlinewidth": 0,
             "ticks": ""
            },
            "colorscale": [
             [
              0,
              "#0d0887"
             ],
             [
              0.1111111111111111,
              "#46039f"
             ],
             [
              0.2222222222222222,
              "#7201a8"
             ],
             [
              0.3333333333333333,
              "#9c179e"
             ],
             [
              0.4444444444444444,
              "#bd3786"
             ],
             [
              0.5555555555555556,
              "#d8576b"
             ],
             [
              0.6666666666666666,
              "#ed7953"
             ],
             [
              0.7777777777777778,
              "#fb9f3a"
             ],
             [
              0.8888888888888888,
              "#fdca26"
             ],
             [
              1,
              "#f0f921"
             ]
            ],
            "type": "histogram2dcontour"
           }
          ],
          "mesh3d": [
           {
            "colorbar": {
             "outlinewidth": 0,
             "ticks": ""
            },
            "type": "mesh3d"
           }
          ],
          "parcoords": [
           {
            "line": {
             "colorbar": {
              "outlinewidth": 0,
              "ticks": ""
             }
            },
            "type": "parcoords"
           }
          ],
          "pie": [
           {
            "automargin": true,
            "type": "pie"
           }
          ],
          "scatter": [
           {
            "fillpattern": {
             "fillmode": "overlay",
             "size": 10,
             "solidity": 0.2
            },
            "type": "scatter"
           }
          ],
          "scatter3d": [
           {
            "line": {
             "colorbar": {
              "outlinewidth": 0,
              "ticks": ""
             }
            },
            "marker": {
             "colorbar": {
              "outlinewidth": 0,
              "ticks": ""
             }
            },
            "type": "scatter3d"
           }
          ],
          "scattercarpet": [
           {
            "marker": {
             "colorbar": {
              "outlinewidth": 0,
              "ticks": ""
             }
            },
            "type": "scattercarpet"
           }
          ],
          "scattergeo": [
           {
            "marker": {
             "colorbar": {
              "outlinewidth": 0,
              "ticks": ""
             }
            },
            "type": "scattergeo"
           }
          ],
          "scattergl": [
           {
            "marker": {
             "colorbar": {
              "outlinewidth": 0,
              "ticks": ""
             }
            },
            "type": "scattergl"
           }
          ],
          "scattermap": [
           {
            "marker": {
             "colorbar": {
              "outlinewidth": 0,
              "ticks": ""
             }
            },
            "type": "scattermap"
           }
          ],
          "scattermapbox": [
           {
            "marker": {
             "colorbar": {
              "outlinewidth": 0,
              "ticks": ""
             }
            },
            "type": "scattermapbox"
           }
          ],
          "scatterpolar": [
           {
            "marker": {
             "colorbar": {
              "outlinewidth": 0,
              "ticks": ""
             }
            },
            "type": "scatterpolar"
           }
          ],
          "scatterpolargl": [
           {
            "marker": {
             "colorbar": {
              "outlinewidth": 0,
              "ticks": ""
             }
            },
            "type": "scatterpolargl"
           }
          ],
          "scatterternary": [
           {
            "marker": {
             "colorbar": {
              "outlinewidth": 0,
              "ticks": ""
             }
            },
            "type": "scatterternary"
           }
          ],
          "surface": [
           {
            "colorbar": {
             "outlinewidth": 0,
             "ticks": ""
            },
            "colorscale": [
             [
              0,
              "#0d0887"
             ],
             [
              0.1111111111111111,
              "#46039f"
             ],
             [
              0.2222222222222222,
              "#7201a8"
             ],
             [
              0.3333333333333333,
              "#9c179e"
             ],
             [
              0.4444444444444444,
              "#bd3786"
             ],
             [
              0.5555555555555556,
              "#d8576b"
             ],
             [
              0.6666666666666666,
              "#ed7953"
             ],
             [
              0.7777777777777778,
              "#fb9f3a"
             ],
             [
              0.8888888888888888,
              "#fdca26"
             ],
             [
              1,
              "#f0f921"
             ]
            ],
            "type": "surface"
           }
          ],
          "table": [
           {
            "cells": {
             "fill": {
              "color": "#EBF0F8"
             },
             "line": {
              "color": "white"
             }
            },
            "header": {
             "fill": {
              "color": "#C8D4E3"
             },
             "line": {
              "color": "white"
             }
            },
            "type": "table"
           }
          ]
         },
         "layout": {
          "annotationdefaults": {
           "arrowcolor": "#2a3f5f",
           "arrowhead": 0,
           "arrowwidth": 1
          },
          "autotypenumbers": "strict",
          "coloraxis": {
           "colorbar": {
            "outlinewidth": 0,
            "ticks": ""
           }
          },
          "colorscale": {
           "diverging": [
            [
             0,
             "#8e0152"
            ],
            [
             0.1,
             "#c51b7d"
            ],
            [
             0.2,
             "#de77ae"
            ],
            [
             0.3,
             "#f1b6da"
            ],
            [
             0.4,
             "#fde0ef"
            ],
            [
             0.5,
             "#f7f7f7"
            ],
            [
             0.6,
             "#e6f5d0"
            ],
            [
             0.7,
             "#b8e186"
            ],
            [
             0.8,
             "#7fbc41"
            ],
            [
             0.9,
             "#4d9221"
            ],
            [
             1,
             "#276419"
            ]
           ],
           "sequential": [
            [
             0,
             "#0d0887"
            ],
            [
             0.1111111111111111,
             "#46039f"
            ],
            [
             0.2222222222222222,
             "#7201a8"
            ],
            [
             0.3333333333333333,
             "#9c179e"
            ],
            [
             0.4444444444444444,
             "#bd3786"
            ],
            [
             0.5555555555555556,
             "#d8576b"
            ],
            [
             0.6666666666666666,
             "#ed7953"
            ],
            [
             0.7777777777777778,
             "#fb9f3a"
            ],
            [
             0.8888888888888888,
             "#fdca26"
            ],
            [
             1,
             "#f0f921"
            ]
           ],
           "sequentialminus": [
            [
             0,
             "#0d0887"
            ],
            [
             0.1111111111111111,
             "#46039f"
            ],
            [
             0.2222222222222222,
             "#7201a8"
            ],
            [
             0.3333333333333333,
             "#9c179e"
            ],
            [
             0.4444444444444444,
             "#bd3786"
            ],
            [
             0.5555555555555556,
             "#d8576b"
            ],
            [
             0.6666666666666666,
             "#ed7953"
            ],
            [
             0.7777777777777778,
             "#fb9f3a"
            ],
            [
             0.8888888888888888,
             "#fdca26"
            ],
            [
             1,
             "#f0f921"
            ]
           ]
          },
          "colorway": [
           "#636efa",
           "#EF553B",
           "#00cc96",
           "#ab63fa",
           "#FFA15A",
           "#19d3f3",
           "#FF6692",
           "#B6E880",
           "#FF97FF",
           "#FECB52"
          ],
          "font": {
           "color": "#2a3f5f"
          },
          "geo": {
           "bgcolor": "white",
           "lakecolor": "white",
           "landcolor": "#E5ECF6",
           "showlakes": true,
           "showland": true,
           "subunitcolor": "white"
          },
          "hoverlabel": {
           "align": "left"
          },
          "hovermode": "closest",
          "mapbox": {
           "style": "light"
          },
          "paper_bgcolor": "white",
          "plot_bgcolor": "#E5ECF6",
          "polar": {
           "angularaxis": {
            "gridcolor": "white",
            "linecolor": "white",
            "ticks": ""
           },
           "bgcolor": "#E5ECF6",
           "radialaxis": {
            "gridcolor": "white",
            "linecolor": "white",
            "ticks": ""
           }
          },
          "scene": {
           "xaxis": {
            "backgroundcolor": "#E5ECF6",
            "gridcolor": "white",
            "gridwidth": 2,
            "linecolor": "white",
            "showbackground": true,
            "ticks": "",
            "zerolinecolor": "white"
           },
           "yaxis": {
            "backgroundcolor": "#E5ECF6",
            "gridcolor": "white",
            "gridwidth": 2,
            "linecolor": "white",
            "showbackground": true,
            "ticks": "",
            "zerolinecolor": "white"
           },
           "zaxis": {
            "backgroundcolor": "#E5ECF6",
            "gridcolor": "white",
            "gridwidth": 2,
            "linecolor": "white",
            "showbackground": true,
            "ticks": "",
            "zerolinecolor": "white"
           }
          },
          "shapedefaults": {
           "line": {
            "color": "#2a3f5f"
           }
          },
          "ternary": {
           "aaxis": {
            "gridcolor": "white",
            "linecolor": "white",
            "ticks": ""
           },
           "baxis": {
            "gridcolor": "white",
            "linecolor": "white",
            "ticks": ""
           },
           "bgcolor": "#E5ECF6",
           "caxis": {
            "gridcolor": "white",
            "linecolor": "white",
            "ticks": ""
           }
          },
          "title": {
           "x": 0.05
          },
          "xaxis": {
           "automargin": true,
           "gridcolor": "white",
           "linecolor": "white",
           "ticks": "",
           "title": {
            "standoff": 15
           },
           "zerolinecolor": "white",
           "zerolinewidth": 2
          },
          "yaxis": {
           "automargin": true,
           "gridcolor": "white",
           "linecolor": "white",
           "ticks": "",
           "title": {
            "standoff": 15
           },
           "zerolinecolor": "white",
           "zerolinewidth": 2
          }
         }
        },
        "title": {
         "text": "Horiznte de Evaluación",
         "x": 0.5
        },
        "xaxis": {
         "anchor": "y",
         "domain": [
          0,
          1
         ],
         "type": "date"
        },
        "yaxis": {
         "anchor": "x",
         "autorange": true,
         "categoryarray": [
          "Funcionamiento",
          "Gestión del Proyecto",
          "Supervisión",
          "Liquidación y entrega del Proyecto",
          "Ejecución del Componente 4 (Intangibles)",
          "Ejecución del Componente 2 y 3 (E&M)",
          "Ejecución del Componente 1 (Obra)",
          "Plan de contingencia",
          "Procedimientos de Aprobación de los Est. Def.",
          "Elaboración de los Términos de Referencia",
          "Elaboración de las Especificaciones Técnicas",
          "Elaboración de los Expediente Técnico (Obra)",
          "Elaboración de los Expediente Técnico (Contingencia)",
          "Procedimiento de selección",
          "Actos preparatorios"
         ],
         "categoryorder": "array",
         "domain": [
          0,
          1
         ],
         "showticklabels": false,
         "title": {
          "text": "Etapa"
         },
         "visible": false
        }
       }
      }
     },
     "metadata": {},
     "output_type": "display_data"
    }
   ],
   "source": [
    "import pandas as pd\n",
    "import plotly.express as px\n",
    "import plotly.graph_objects as go\n",
    "from dateutil.relativedelta import relativedelta\n",
    "from plotly.colors import qualitative\n",
    "\n",
    "# ---------- 1. PREPARACIÓN ----------\n",
    "df[\"Inicio\"] = pd.to_datetime(df[\"Inicio\"])\n",
    "df[\"Fin\"]    = pd.to_datetime(df[\"Fin\"])\n",
    "\n",
    "df[\"Duracion_str\"] = df.apply(\n",
    "    lambda r: f\"{relativedelta(r['Fin'], r['Inicio']).years} a \"\n",
    "              f\"{relativedelta(r['Fin'], r['Inicio']).months} m \"\n",
    "              f\"{relativedelta(r['Fin'], r['Inicio']).days} d\", axis=1)\n",
    "\n",
    "inicio_texto = df[\"Inicio\"].min().strftime(\"%d %b %Y\")\n",
    "fin_texto    = df[\"Fin\"].max().strftime(\"%d %b %Y\")\n",
    "x_max = df[\"Fin\"].max()  # Solo lo usas si quieres una referencia temporal\n",
    "\n",
    "\n",
    "\n",
    "# Columna que une Macro + Etapa (respeta tu orden original)\n",
    "df[\"Jerarquia\"] = df[\"Macroetapa\"] + \" – \" + df[\"Etapa\"]\n",
    "y_order = df[\"Jerarquia\"].tolist()                    # orden exacto\n",
    "\n",
    "# Paleta: colores distintos para cada ETAPA\n",
    "unique_etapas = df[\"Etapa\"].unique()\n",
    "paleta = qualitative.Alphabet                      # 26 tonos bien diferenciados\n",
    "color_map = {e: paleta[i % len(paleta)] for i, e in enumerate(unique_etapas)}\n",
    "\n",
    "# ---------- 2. GANTT CON PLOTLY EXPRESS ----------\n",
    "fig = px.timeline(\n",
    "    df,\n",
    "    x_start=\"Inicio\",\n",
    "    x_end=\"Fin\",\n",
    "    y=\"Etapa\",\n",
    "    color=\"Etapa\",\n",
    "    color_discrete_map=color_map,\n",
    "    category_orders={\"Jerarquia\": y_order},\n",
    "    hover_data={\n",
    "        \"Macroetapa\": True,\n",
    "        \"Etapa\": True,\n",
    "        \"Inicio\": \"|%d %b %Y\",\n",
    "        \"Fin\": \"|%d %b %Y\",\n",
    "        \"Duracion_str\": True\n",
    "    }\n",
    ")\n",
    "\n",
    "fig.update_yaxes(\n",
    "    autorange=True,\n",
    "    showticklabels=False  # ← esto elimina los nombres del eje Y\n",
    ")\n",
    "\n",
    "fig.update_layout(\n",
    "    height=None,\n",
    "    autosize=True,\n",
    "    title=\"Horiznte de Evaluación\",\n",
    "    title_x=0.5,\n",
    "    yaxis_visible=False,\n",
    "    font=dict(color=\"#d0d0d0\"),\n",
    "    margin=dict(t=60, r=20, l=40, b=40),    \n",
    "    plot_bgcolor=\"#0d1117\",\n",
    "    paper_bgcolor=\"#0d1117\",\n",
    ")\n",
    "\n",
    "\n",
    "\n",
    "# ---------- 3. (OPCIONAL) SOMBREADO POR MACRO-ETAPA ----------\n",
    "# Agrega una banda de color suave detrás de cada grupo\n",
    "y_positions = {y: i for i, y in enumerate(y_order)}          # índice vertical\n",
    "for macro in df[\"Macroetapa\"].unique():\n",
    "    subset = df[df[\"Macroetapa\"] == macro]\n",
    "    y_vals = subset[\"Jerarquia\"].tolist()\n",
    "    top    = y_positions[y_vals[0]] + 0.5\n",
    "    bottom = y_positions[y_vals[-1]] - 0.5\n",
    "    fig.add_shape(\n",
    "        type=\"rect\",\n",
    "        x0=df[\"Inicio\"].min(), x1=df[\"Fin\"].max(),\n",
    "        y0=bottom, y1=top,\n",
    "        fillcolor=\"rgba(255,255,255,0.04)\", line_width=0,\n",
    "        layer=\"below\"\n",
    "    )\n",
    "\n",
    "# ---------- 4. EXPORTAR ----------\n",
    "fig.write_html(\n",
    "    r\"Z:\\02_Maestría UNI\\I_TALLER DE PROYECTOS II\\EXPOSICION\\expo2_akira\\docs\\plots\\horizonte_evaluacion.html\",\n",
    "    full_html=True,\n",
    "    include_plotlyjs=\"cdn\",\n",
    "    config={\"responsive\": True}\n",
    ")\n",
    "\n",
    "\n",
    "fig.show()\n"
   ]
  },
  {
   "cell_type": "code",
   "execution_count": 6,
   "id": "73f2e8a4",
   "metadata": {},
   "outputs": [
    {
     "data": {
      "application/vnd.plotly.v1+json": {
       "config": {
        "plotlyServerURL": "https://plot.ly"
       },
       "data": [
        {
         "base": [
          -359,
          -388.5,
          -407,
          -423,
          -476,
          -514.5,
          -547,
          -580,
          -613.5,
          -620.5,
          -627.5,
          -635,
          -642.5
         ],
         "marker": {
          "color": "rgb(136, 204, 238)"
         },
         "name": "1° grado",
         "text": {
          "bdata": "AAAAAAAAZkAAAAAAAEBmQAAAAAAAgGZAAAAAAADgZkAAAAAAAIBtQAAAAAAA4G1AAAAAAAAgbkAAAAAAAIBuQAAAAAAA4G5AAAAAAABAb0AAAAAAAKBvQAAAAAAAAHBAAAAAAAAwcEA=",
          "dtype": "f8"
         },
         "textfont": {
          "color": "white",
          "size": 14
         },
         "textposition": "inside",
         "type": "bar",
         "x": {
          "bdata": "6QfqB+sH7AftB+4H7wfwB/EH8gfzB/QH9Qc=",
          "dtype": "i2"
         },
         "y": {
          "bdata": "sACyALQAtwDsAO8A8QD0APcA+gD9AAABAwE=",
          "dtype": "i2"
         }
        },
        {
         "base": [
          -183,
          -210.5,
          -227,
          -240,
          -240,
          -275.5,
          -306,
          -336,
          -366.5,
          -370.5,
          -374.5,
          -379,
          -383.5
         ],
         "marker": {
          "color": "rgb(204, 102, 119)"
         },
         "name": "2° grado",
         "text": {
          "bdata": "AAAAAADAYUAAAAAAAABmQAAAAAAAQGZAAAAAAACAZkAAAAAAAOBmQAAAAAAAoG1AAAAAAAAAbkAAAAAAAEBuQAAAAAAAoG5AAAAAAAAAb0AAAAAAAGBvQAAAAAAAwG9AAAAAAAAQcEA=",
          "dtype": "f8"
         },
         "textfont": {
          "color": "white",
          "size": 14
         },
         "textposition": "inside",
         "type": "bar",
         "x": {
          "bdata": "6QfqB+sH7AftB+4H7wfwB/EH8gfzB/QH9Qc=",
          "dtype": "i2"
         },
         "y": {
          "bdata": "jgCwALIAtAC3AO0A8ADyAPUA+AD7AP4AAQE=",
          "dtype": "i2"
         }
        },
        {
         "base": [
          -41,
          -34.5,
          -49,
          -60,
          -57,
          -38.5,
          -66,
          -94,
          -121.5,
          -122.5,
          -123.5,
          -125,
          -126.5
         ],
         "marker": {
          "color": "rgb(221, 204, 119)"
         },
         "name": "3° grado",
         "text": {
          "bdata": "AAAAAAAAY0AAAAAAAABiQAAAAAAAYGZAAAAAAACgZkAAAAAAAOBmQAAAAAAAQGdAAAAAAAAgbkAAAAAAAIBuQAAAAAAAwG5AAAAAAAAgb0AAAAAAAIBvQAAAAAAA4G9AAAAAAAAgcEA=",
          "dtype": "f8"
         },
         "textfont": {
          "color": "white",
          "size": 14
         },
         "textposition": "inside",
         "type": "bar",
         "x": {
          "bdata": "6QfqB+sH7AftB+4H7wfwB/EH8gfzB/QH9Qc=",
          "dtype": "i2"
         },
         "y": {
          "bdata": "mACQALMAtQC3ALoA8QD0APYA+QD8AP8AAgE=",
          "dtype": "i2"
         }
        },
        {
         "base": [
          111,
          109.5,
          130,
          121,
          126,
          147.5,
          175,
          150,
          124.5,
          126.5,
          128.5,
          130,
          131.5
         ],
         "marker": {
          "color": "rgb(17, 119, 51)"
         },
         "name": "4° grado",
         "text": {
          "bdata": "AAAAAAAAYUAAAAAAAKBhQAAAAAAAwGBAAAAAAADAZEAAAAAAAKBmQAAAAAAA4GZAAAAAAABAZ0AAAAAAACBuQAAAAAAAgG5AAAAAAADAbkAAAAAAACBvQAAAAAAAgG9AAAAAAADgb0A=",
          "dtype": "f8"
         },
         "textfont": {
          "color": "white",
          "size": 14
         },
         "textposition": "inside",
         "type": "bar",
         "x": {
          "bdata": "6QfqB+sH7AftB+4H7wfwB/EH8gfzB/QH9Qc=",
          "dtype": "i2"
         },
         "y": {
          "bdata": "iACNAIYApgC1ALcAugDxAPQA9gD5APwA/wA=",
          "dtype": "i2"
         }
        },
        {
         "base": [
          247,
          250.5,
          264,
          287,
          307,
          330.5,
          361,
          391,
          368.5,
          372.5,
          377.5,
          382,
          386.5
         ],
         "marker": {
          "color": "rgb(51, 34, 136)"
         },
         "name": "5° grado",
         "text": {
          "bdata": "AAAAAAAAXEAAAAAAAEBhQAAAAAAA4GFAAAAAAAAAYUAAAAAAACBlQAAAAAAAAGdAAAAAAABAZ0AAAAAAAKBnQAAAAAAAoG5AAAAAAAAAb0AAAAAAAEBvQAAAAAAAoG9AAAAAAAAAcEA=",
          "dtype": "f8"
         },
         "textfont": {
          "color": "white",
          "size": 14
         },
         "textposition": "inside",
         "type": "bar",
         "x": {
          "bdata": "6QfqB+sH7AftB+4H7wfwB/EH8gfzB/QH9Qc=",
          "dtype": "i2"
         },
         "y": {
          "bdata": "cACKAI8AiACpALgAugC9APUA+AD6AP0AAAE=",
          "dtype": "i2"
         }
        }
       ],
       "layout": {
        "autosize": true,
        "barmode": "stack",
        "font": {
         "color": "#c9d1d9"
        },
        "legend": {
         "title": {
          "text": "Grado"
         }
        },
        "margin": {
         "b": 40,
         "l": 40,
         "r": 20,
         "t": 60
        },
        "paper_bgcolor": "#0d1117",
        "plot_bgcolor": "#0d1117",
        "shapes": [
         {
          "layer": "below",
          "line": {
           "color": "rgba(255,255,255,0.1)",
           "width": 10
          },
          "type": "line",
          "x0": 2025,
          "x1": 2025,
          "y0": -642.5,
          "y1": 642.5
         },
         {
          "layer": "below",
          "line": {
           "color": "rgba(255,255,255,0.1)",
           "width": 10
          },
          "type": "line",
          "x0": 2026,
          "x1": 2026,
          "y0": -642.5,
          "y1": 642.5
         },
         {
          "layer": "below",
          "line": {
           "color": "rgba(255,255,255,0.1)",
           "width": 10
          },
          "type": "line",
          "x0": 2027,
          "x1": 2027,
          "y0": -642.5,
          "y1": 642.5
         },
         {
          "layer": "below",
          "line": {
           "color": "rgba(255,255,255,0.1)",
           "width": 10
          },
          "type": "line",
          "x0": 2028,
          "x1": 2028,
          "y0": -642.5,
          "y1": 642.5
         },
         {
          "layer": "below",
          "line": {
           "color": "rgba(255,255,255,0.1)",
           "width": 10
          },
          "type": "line",
          "x0": 2029,
          "x1": 2029,
          "y0": -642.5,
          "y1": 642.5
         },
         {
          "layer": "below",
          "line": {
           "color": "rgba(255,255,255,0.1)",
           "width": 10
          },
          "type": "line",
          "x0": 2030,
          "x1": 2030,
          "y0": -642.5,
          "y1": 642.5
         },
         {
          "layer": "below",
          "line": {
           "color": "rgba(255,255,255,0.1)",
           "width": 10
          },
          "type": "line",
          "x0": 2031,
          "x1": 2031,
          "y0": -642.5,
          "y1": 642.5
         },
         {
          "layer": "below",
          "line": {
           "color": "rgba(255,255,255,0.1)",
           "width": 10
          },
          "type": "line",
          "x0": 2032,
          "x1": 2032,
          "y0": -642.5,
          "y1": 642.5
         },
         {
          "layer": "below",
          "line": {
           "color": "rgba(255,255,255,0.1)",
           "width": 10
          },
          "type": "line",
          "x0": 2033,
          "x1": 2033,
          "y0": -642.5,
          "y1": 642.5
         },
         {
          "layer": "below",
          "line": {
           "color": "rgba(255,255,255,0.1)",
           "width": 10
          },
          "type": "line",
          "x0": 2034,
          "x1": 2034,
          "y0": -642.5,
          "y1": 642.5
         },
         {
          "layer": "below",
          "line": {
           "color": "rgba(255,255,255,0.1)",
           "width": 10
          },
          "type": "line",
          "x0": 2035,
          "x1": 2035,
          "y0": -642.5,
          "y1": 642.5
         },
         {
          "layer": "below",
          "line": {
           "color": "rgba(255,255,255,0.1)",
           "width": 10
          },
          "type": "line",
          "x0": 2036,
          "x1": 2036,
          "y0": -642.5,
          "y1": 642.5
         },
         {
          "layer": "below",
          "line": {
           "color": "rgba(255,255,255,0.1)",
           "width": 10
          },
          "type": "line",
          "x0": 2037,
          "x1": 2037,
          "y0": -642.5,
          "y1": 642.5
         }
        ],
        "template": {
         "data": {
          "bar": [
           {
            "error_x": {
             "color": "#2a3f5f"
            },
            "error_y": {
             "color": "#2a3f5f"
            },
            "marker": {
             "line": {
              "color": "#E5ECF6",
              "width": 0.5
             },
             "pattern": {
              "fillmode": "overlay",
              "size": 10,
              "solidity": 0.2
             }
            },
            "type": "bar"
           }
          ],
          "barpolar": [
           {
            "marker": {
             "line": {
              "color": "#E5ECF6",
              "width": 0.5
             },
             "pattern": {
              "fillmode": "overlay",
              "size": 10,
              "solidity": 0.2
             }
            },
            "type": "barpolar"
           }
          ],
          "carpet": [
           {
            "aaxis": {
             "endlinecolor": "#2a3f5f",
             "gridcolor": "white",
             "linecolor": "white",
             "minorgridcolor": "white",
             "startlinecolor": "#2a3f5f"
            },
            "baxis": {
             "endlinecolor": "#2a3f5f",
             "gridcolor": "white",
             "linecolor": "white",
             "minorgridcolor": "white",
             "startlinecolor": "#2a3f5f"
            },
            "type": "carpet"
           }
          ],
          "choropleth": [
           {
            "colorbar": {
             "outlinewidth": 0,
             "ticks": ""
            },
            "type": "choropleth"
           }
          ],
          "contour": [
           {
            "colorbar": {
             "outlinewidth": 0,
             "ticks": ""
            },
            "colorscale": [
             [
              0,
              "#0d0887"
             ],
             [
              0.1111111111111111,
              "#46039f"
             ],
             [
              0.2222222222222222,
              "#7201a8"
             ],
             [
              0.3333333333333333,
              "#9c179e"
             ],
             [
              0.4444444444444444,
              "#bd3786"
             ],
             [
              0.5555555555555556,
              "#d8576b"
             ],
             [
              0.6666666666666666,
              "#ed7953"
             ],
             [
              0.7777777777777778,
              "#fb9f3a"
             ],
             [
              0.8888888888888888,
              "#fdca26"
             ],
             [
              1,
              "#f0f921"
             ]
            ],
            "type": "contour"
           }
          ],
          "contourcarpet": [
           {
            "colorbar": {
             "outlinewidth": 0,
             "ticks": ""
            },
            "type": "contourcarpet"
           }
          ],
          "heatmap": [
           {
            "colorbar": {
             "outlinewidth": 0,
             "ticks": ""
            },
            "colorscale": [
             [
              0,
              "#0d0887"
             ],
             [
              0.1111111111111111,
              "#46039f"
             ],
             [
              0.2222222222222222,
              "#7201a8"
             ],
             [
              0.3333333333333333,
              "#9c179e"
             ],
             [
              0.4444444444444444,
              "#bd3786"
             ],
             [
              0.5555555555555556,
              "#d8576b"
             ],
             [
              0.6666666666666666,
              "#ed7953"
             ],
             [
              0.7777777777777778,
              "#fb9f3a"
             ],
             [
              0.8888888888888888,
              "#fdca26"
             ],
             [
              1,
              "#f0f921"
             ]
            ],
            "type": "heatmap"
           }
          ],
          "histogram": [
           {
            "marker": {
             "pattern": {
              "fillmode": "overlay",
              "size": 10,
              "solidity": 0.2
             }
            },
            "type": "histogram"
           }
          ],
          "histogram2d": [
           {
            "colorbar": {
             "outlinewidth": 0,
             "ticks": ""
            },
            "colorscale": [
             [
              0,
              "#0d0887"
             ],
             [
              0.1111111111111111,
              "#46039f"
             ],
             [
              0.2222222222222222,
              "#7201a8"
             ],
             [
              0.3333333333333333,
              "#9c179e"
             ],
             [
              0.4444444444444444,
              "#bd3786"
             ],
             [
              0.5555555555555556,
              "#d8576b"
             ],
             [
              0.6666666666666666,
              "#ed7953"
             ],
             [
              0.7777777777777778,
              "#fb9f3a"
             ],
             [
              0.8888888888888888,
              "#fdca26"
             ],
             [
              1,
              "#f0f921"
             ]
            ],
            "type": "histogram2d"
           }
          ],
          "histogram2dcontour": [
           {
            "colorbar": {
             "outlinewidth": 0,
             "ticks": ""
            },
            "colorscale": [
             [
              0,
              "#0d0887"
             ],
             [
              0.1111111111111111,
              "#46039f"
             ],
             [
              0.2222222222222222,
              "#7201a8"
             ],
             [
              0.3333333333333333,
              "#9c179e"
             ],
             [
              0.4444444444444444,
              "#bd3786"
             ],
             [
              0.5555555555555556,
              "#d8576b"
             ],
             [
              0.6666666666666666,
              "#ed7953"
             ],
             [
              0.7777777777777778,
              "#fb9f3a"
             ],
             [
              0.8888888888888888,
              "#fdca26"
             ],
             [
              1,
              "#f0f921"
             ]
            ],
            "type": "histogram2dcontour"
           }
          ],
          "mesh3d": [
           {
            "colorbar": {
             "outlinewidth": 0,
             "ticks": ""
            },
            "type": "mesh3d"
           }
          ],
          "parcoords": [
           {
            "line": {
             "colorbar": {
              "outlinewidth": 0,
              "ticks": ""
             }
            },
            "type": "parcoords"
           }
          ],
          "pie": [
           {
            "automargin": true,
            "type": "pie"
           }
          ],
          "scatter": [
           {
            "fillpattern": {
             "fillmode": "overlay",
             "size": 10,
             "solidity": 0.2
            },
            "type": "scatter"
           }
          ],
          "scatter3d": [
           {
            "line": {
             "colorbar": {
              "outlinewidth": 0,
              "ticks": ""
             }
            },
            "marker": {
             "colorbar": {
              "outlinewidth": 0,
              "ticks": ""
             }
            },
            "type": "scatter3d"
           }
          ],
          "scattercarpet": [
           {
            "marker": {
             "colorbar": {
              "outlinewidth": 0,
              "ticks": ""
             }
            },
            "type": "scattercarpet"
           }
          ],
          "scattergeo": [
           {
            "marker": {
             "colorbar": {
              "outlinewidth": 0,
              "ticks": ""
             }
            },
            "type": "scattergeo"
           }
          ],
          "scattergl": [
           {
            "marker": {
             "colorbar": {
              "outlinewidth": 0,
              "ticks": ""
             }
            },
            "type": "scattergl"
           }
          ],
          "scattermap": [
           {
            "marker": {
             "colorbar": {
              "outlinewidth": 0,
              "ticks": ""
             }
            },
            "type": "scattermap"
           }
          ],
          "scattermapbox": [
           {
            "marker": {
             "colorbar": {
              "outlinewidth": 0,
              "ticks": ""
             }
            },
            "type": "scattermapbox"
           }
          ],
          "scatterpolar": [
           {
            "marker": {
             "colorbar": {
              "outlinewidth": 0,
              "ticks": ""
             }
            },
            "type": "scatterpolar"
           }
          ],
          "scatterpolargl": [
           {
            "marker": {
             "colorbar": {
              "outlinewidth": 0,
              "ticks": ""
             }
            },
            "type": "scatterpolargl"
           }
          ],
          "scatterternary": [
           {
            "marker": {
             "colorbar": {
              "outlinewidth": 0,
              "ticks": ""
             }
            },
            "type": "scatterternary"
           }
          ],
          "surface": [
           {
            "colorbar": {
             "outlinewidth": 0,
             "ticks": ""
            },
            "colorscale": [
             [
              0,
              "#0d0887"
             ],
             [
              0.1111111111111111,
              "#46039f"
             ],
             [
              0.2222222222222222,
              "#7201a8"
             ],
             [
              0.3333333333333333,
              "#9c179e"
             ],
             [
              0.4444444444444444,
              "#bd3786"
             ],
             [
              0.5555555555555556,
              "#d8576b"
             ],
             [
              0.6666666666666666,
              "#ed7953"
             ],
             [
              0.7777777777777778,
              "#fb9f3a"
             ],
             [
              0.8888888888888888,
              "#fdca26"
             ],
             [
              1,
              "#f0f921"
             ]
            ],
            "type": "surface"
           }
          ],
          "table": [
           {
            "cells": {
             "fill": {
              "color": "#EBF0F8"
             },
             "line": {
              "color": "white"
             }
            },
            "header": {
             "fill": {
              "color": "#C8D4E3"
             },
             "line": {
              "color": "white"
             }
            },
            "type": "table"
           }
          ]
         },
         "layout": {
          "annotationdefaults": {
           "arrowcolor": "#2a3f5f",
           "arrowhead": 0,
           "arrowwidth": 1
          },
          "autotypenumbers": "strict",
          "coloraxis": {
           "colorbar": {
            "outlinewidth": 0,
            "ticks": ""
           }
          },
          "colorscale": {
           "diverging": [
            [
             0,
             "#8e0152"
            ],
            [
             0.1,
             "#c51b7d"
            ],
            [
             0.2,
             "#de77ae"
            ],
            [
             0.3,
             "#f1b6da"
            ],
            [
             0.4,
             "#fde0ef"
            ],
            [
             0.5,
             "#f7f7f7"
            ],
            [
             0.6,
             "#e6f5d0"
            ],
            [
             0.7,
             "#b8e186"
            ],
            [
             0.8,
             "#7fbc41"
            ],
            [
             0.9,
             "#4d9221"
            ],
            [
             1,
             "#276419"
            ]
           ],
           "sequential": [
            [
             0,
             "#0d0887"
            ],
            [
             0.1111111111111111,
             "#46039f"
            ],
            [
             0.2222222222222222,
             "#7201a8"
            ],
            [
             0.3333333333333333,
             "#9c179e"
            ],
            [
             0.4444444444444444,
             "#bd3786"
            ],
            [
             0.5555555555555556,
             "#d8576b"
            ],
            [
             0.6666666666666666,
             "#ed7953"
            ],
            [
             0.7777777777777778,
             "#fb9f3a"
            ],
            [
             0.8888888888888888,
             "#fdca26"
            ],
            [
             1,
             "#f0f921"
            ]
           ],
           "sequentialminus": [
            [
             0,
             "#0d0887"
            ],
            [
             0.1111111111111111,
             "#46039f"
            ],
            [
             0.2222222222222222,
             "#7201a8"
            ],
            [
             0.3333333333333333,
             "#9c179e"
            ],
            [
             0.4444444444444444,
             "#bd3786"
            ],
            [
             0.5555555555555556,
             "#d8576b"
            ],
            [
             0.6666666666666666,
             "#ed7953"
            ],
            [
             0.7777777777777778,
             "#fb9f3a"
            ],
            [
             0.8888888888888888,
             "#fdca26"
            ],
            [
             1,
             "#f0f921"
            ]
           ]
          },
          "colorway": [
           "#636efa",
           "#EF553B",
           "#00cc96",
           "#ab63fa",
           "#FFA15A",
           "#19d3f3",
           "#FF6692",
           "#B6E880",
           "#FF97FF",
           "#FECB52"
          ],
          "font": {
           "color": "#2a3f5f"
          },
          "geo": {
           "bgcolor": "white",
           "lakecolor": "white",
           "landcolor": "#E5ECF6",
           "showlakes": true,
           "showland": true,
           "subunitcolor": "white"
          },
          "hoverlabel": {
           "align": "left"
          },
          "hovermode": "closest",
          "mapbox": {
           "style": "light"
          },
          "paper_bgcolor": "white",
          "plot_bgcolor": "#E5ECF6",
          "polar": {
           "angularaxis": {
            "gridcolor": "white",
            "linecolor": "white",
            "ticks": ""
           },
           "bgcolor": "#E5ECF6",
           "radialaxis": {
            "gridcolor": "white",
            "linecolor": "white",
            "ticks": ""
           }
          },
          "scene": {
           "xaxis": {
            "backgroundcolor": "#E5ECF6",
            "gridcolor": "white",
            "gridwidth": 2,
            "linecolor": "white",
            "showbackground": true,
            "ticks": "",
            "zerolinecolor": "white"
           },
           "yaxis": {
            "backgroundcolor": "#E5ECF6",
            "gridcolor": "white",
            "gridwidth": 2,
            "linecolor": "white",
            "showbackground": true,
            "ticks": "",
            "zerolinecolor": "white"
           },
           "zaxis": {
            "backgroundcolor": "#E5ECF6",
            "gridcolor": "white",
            "gridwidth": 2,
            "linecolor": "white",
            "showbackground": true,
            "ticks": "",
            "zerolinecolor": "white"
           }
          },
          "shapedefaults": {
           "line": {
            "color": "#2a3f5f"
           }
          },
          "ternary": {
           "aaxis": {
            "gridcolor": "white",
            "linecolor": "white",
            "ticks": ""
           },
           "baxis": {
            "gridcolor": "white",
            "linecolor": "white",
            "ticks": ""
           },
           "bgcolor": "#E5ECF6",
           "caxis": {
            "gridcolor": "white",
            "linecolor": "white",
            "ticks": ""
           }
          },
          "title": {
           "x": 0.05
          },
          "xaxis": {
           "automargin": true,
           "gridcolor": "white",
           "linecolor": "white",
           "ticks": "",
           "title": {
            "standoff": 15
           },
           "zerolinecolor": "white",
           "zerolinewidth": 2
          },
          "yaxis": {
           "automargin": true,
           "gridcolor": "white",
           "linecolor": "white",
           "ticks": "",
           "title": {
            "standoff": 15
           },
           "zerolinecolor": "white",
           "zerolinewidth": 2
          }
         }
        },
        "title": {
         "text": "Demanda efectiva con proyecto por grado académico",
         "x": 0.5
        },
        "xaxis": {
         "dtick": 1,
         "tickmode": "linear",
         "visible": true
        },
        "yaxis": {
         "showticklabels": false,
         "visible": false
        }
       }
      }
     },
     "metadata": {},
     "output_type": "display_data"
    }
   ],
   "source": [
    "import pandas as pd\n",
    "import plotly.graph_objects as go\n",
    "from plotly.colors import qualitative, sequential\n",
    "from pathlib import Path\n",
    "\n",
    "# ─── PALETAS FIJAS PARA TODA LA TESIS ───────────────────────\n",
    "PALETA_CATEGORICA = qualitative.Safe      # para categorías (etapas, niveles, regiones)\n",
    "PALETA_NUMERICA   = sequential.Viridis    # para mapas, proporciones, ratios\n",
    "\n",
    "# ─── 1. CARGA ────────────────────────────────────────────────\n",
    "df = pd.read_excel(\n",
    "    Path(r\"Z:\\02_Maestría UNI\\I_TALLER DE PROYECTOS II\\EXPOSICION\\expo2_akira\\data\\data.xlsx\"),\n",
    "    sheet_name=\"demandacp\"\n",
    ")\n",
    "\n",
    "# ─── 2. PIVOTEO Y ORDEN DE GRADOS ────────────────────────────\n",
    "df[\"grado\"] = df[\"grado\"].astype(str) + \"° grado\"\n",
    "orden = sorted(df[\"grado\"].unique())\n",
    "df_pivot = df.pivot(index=\"año\", columns=\"grado\", values=\"total\").fillna(0)\n",
    "df_pivot = df_pivot[orden]\n",
    "\n",
    "# ─── 3. CENTRADO (CAMPANA) ───────────────────────────────────\n",
    "totales = df_pivot.sum(axis=1)\n",
    "bottoms = -totales / 2\n",
    "\n",
    "# ─── 4. PALETA DE COLORES COHERENTE ──────────────────────────\n",
    "color_map = {g: PALETA_CATEGORICA[i % len(PALETA_CATEGORICA)] for i, g in enumerate(orden)}\n",
    "\n",
    "# ─── 5. CREACIÓN DEL GRÁFICO ─────────────────────────────────\n",
    "fig = go.Figure()\n",
    "\n",
    "for grado in orden:\n",
    "    valores = df_pivot[grado]\n",
    "    fig.add_bar(\n",
    "        x=df_pivot.index,\n",
    "        y=valores,\n",
    "        base=bottoms,\n",
    "        name=str(grado),\n",
    "        marker_color=color_map[grado],\n",
    "        text=valores,\n",
    "        textposition=\"inside\",\n",
    "        textfont=dict(color=\"white\", size=14)\n",
    "    )\n",
    "    bottoms += valores\n",
    "\n",
    "# ─── 6. LÍNEAS VERTICALES POR AÑO ────────────────────────────\n",
    "for año in df_pivot.index:\n",
    "    fig.add_shape(\n",
    "        type=\"line\",\n",
    "        x0=año, x1=año,\n",
    "        y0=-totales.max() / 2,\n",
    "        y1=totales.max() / 2,\n",
    "        line=dict(color=\"rgba(255,255,255,0.1)\", width=10),\n",
    "        layer=\"below\"\n",
    "    )\n",
    "\n",
    "# ─── 7. ESTILO GENERAL ───────────────────────────────────────\n",
    "fig.update_layout(\n",
    "    title=\"Demanda efectiva con proyecto por grado académico\",\n",
    "    title_x=0.5,\n",
    "    barmode=\"stack\",\n",
    "    xaxis=dict(tickmode='linear', dtick=1),\n",
    "    yaxis_visible=False,\n",
    "    xaxis_visible=True,\n",
    "    yaxis_showticklabels=False,\n",
    "    plot_bgcolor=\"#0d1117\",\n",
    "    paper_bgcolor=\"#0d1117\",\n",
    "    font=dict(color=\"#c9d1d9\"),\n",
    "    autosize=True,\n",
    "    height=None,  # ← evita height fijo\n",
    "    margin=dict(t=60, r=20, l=40, b=40),\n",
    "    legend_title=\"Grado\"\n",
    ")\n",
    "\n",
    "# ─── 8. EXPORTACIÓN A HTML ───────────────────────────────────\n",
    "fig.write_html(r\"Z:\\02_Maestría UNI\\I_TALLER DE PROYECTOS II\\EXPOSICION\\expo2_akira\\docs\\plots\\demanda_efectiva_cp.html\", full_html=True,\n",
    "               include_plotlyjs=\"cdn\",\n",
    "               config={\"responsive\": True})\n",
    "\n",
    "fig.show()\n"
   ]
  }
 ],
 "metadata": {
  "kernelspec": {
   "display_name": "Python 3",
   "language": "python",
   "name": "python3"
  },
  "language_info": {
   "codemirror_mode": {
    "name": "ipython",
    "version": 3
   },
   "file_extension": ".py",
   "mimetype": "text/x-python",
   "name": "python",
   "nbconvert_exporter": "python",
   "pygments_lexer": "ipython3",
   "version": "3.11.9"
  }
 },
 "nbformat": 4,
 "nbformat_minor": 5
}
